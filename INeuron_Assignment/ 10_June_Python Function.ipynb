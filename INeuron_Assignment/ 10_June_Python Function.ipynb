{
 "cells": [
  {
   "cell_type": "markdown",
   "id": "ed767b92",
   "metadata": {},
   "source": [
    "<h1 align = \"center\"> Function</h1>"
   ]
  },
  {
   "cell_type": "markdown",
   "id": "13be040c",
   "metadata": {},
   "source": [
    "### 1. In Python, what is the difference between a built-in function and a user-defined function? Provide an example of each.\n"
   ]
  },
  {
   "cell_type": "markdown",
   "id": "e52f1299",
   "metadata": {},
   "source": [
    "####  <font color=blue> _Answer_ </font>"
   ]
  },
  {
   "cell_type": "markdown",
   "id": "3b989738",
   "metadata": {},
   "source": [
    "__1. Built-in Function:__\n",
    " - A built-in function is a function that is provided by the Python programming language itself. \n",
    " - These functions are pre-defined and readily available for use without requiring any additional code.\n",
    " - They are part of the Python standard library and cover a wide range of functionalities, such as mathematical operations, string manipulation, file handling, and more.\n",
    " - Examples: help(), len(), type(), print()"
   ]
  },
  {
   "cell_type": "code",
   "execution_count": 3,
   "id": "7760e2cb",
   "metadata": {},
   "outputs": [
    {
     "name": "stdout",
     "output_type": "stream",
     "text": [
      "4\n",
      "<class 'list'>\n"
     ]
    }
   ],
   "source": [
    "# List\n",
    "lst=[\"EXO\",\"Sehun\",\"Suho\",\"Chanyeol\"]\n",
    "\n",
    "\n",
    "print(len(lst)) # built in function to find length of variable\n",
    "print(type(lst)) # built in function to find type of variable"
   ]
  },
  {
   "cell_type": "markdown",
   "id": "2facff20",
   "metadata": {},
   "source": [
    "__2. User-defined Function:__\n",
    " - A user-defined function is a function that is created and defined by the programmer to perform a specific task. \n",
    " - We can define our own functions to modularize our code, improve readability, and reuse functionality across different parts of the program. \n",
    " - User-defined functions are created using the <code>def</code> keyword followed by the function name, parameter list (if any), and a block of code defining the function's behavior."
   ]
  },
  {
   "cell_type": "code",
   "execution_count": 11,
   "id": "92e64dca",
   "metadata": {},
   "outputs": [
    {
     "name": "stdout",
     "output_type": "stream",
     "text": [
      "Addition : 30\n",
      "Square:  121\n"
     ]
    }
   ],
   "source": [
    "#User Define Function\n",
    "def addition(a,b):\n",
    "    \"\"\"This funcion is use to addition the number \"\"\"\n",
    "    return a+b\n",
    "\n",
    "def square(x):\n",
    "    \"\"\"This funcion is use to square the number \"\"\"\n",
    "    return x**2\n",
    "\n",
    "result=addition(10,20)\n",
    "print(\"Addition :\",result)\n",
    "\n",
    "result1=square(11)\n",
    "print(\"Square: \",result1)"
   ]
  },
  {
   "cell_type": "markdown",
   "id": "c29de350",
   "metadata": {},
   "source": [
    "### 2. How can you pass arguments to a function in Python? Explain the difference between positional arguments and keyword arguments.\n"
   ]
  },
  {
   "cell_type": "markdown",
   "id": "754392fe",
   "metadata": {},
   "source": [
    "####  <font color=blue> _Answer_ </font>"
   ]
  },
  {
   "cell_type": "markdown",
   "id": "db7033da",
   "metadata": {},
   "source": [
    "- Information can be passed into functions as arguments.\n",
    "- In Python, you can pass arguments to a function when you call it. Arguments are the values that you provide to the function, and they can be used as inputs for the function's computations.\n",
    "- Arguments are specified after the function name, inside the parentheses. You can add as many arguments as you want, just separate them with a comma.\n",
    "- There are two main ways to pass arguments to a function: positional arguments and keyword arguments.\n",
    "\n",
    "1. __Positional Arguments:__\n",
    "   - Positional arguments are the most common way to pass arguments to a function in Python. When you pass arguments as positional arguments, the values are matched to the function's parameters based on their order"
   ]
  },
  {
   "cell_type": "code",
   "execution_count": 23,
   "id": "18d2ba27",
   "metadata": {},
   "outputs": [
    {
     "name": "stdout",
     "output_type": "stream",
     "text": [
      "Addition:  106\n"
     ]
    }
   ],
   "source": [
    "# Example of Positional argument\n",
    "\n",
    "def addition(a, b):\n",
    "    return a + b\n",
    "\n",
    "result = addition(5, 101)  # 5 is passed as 'a', and 10 is passed as 'b'\n",
    "print(\"Addition: \",result)"
   ]
  },
  {
   "cell_type": "markdown",
   "id": "4198ad81",
   "metadata": {},
   "source": [
    "2. __Keyword Arguments:__\n",
    " - Keyword arguments allow you to explicitly specify which parameter each value corresponds to, regardless of their order. \n",
    " - When you pass arguments as keyword arguments, you use the name of the parameter followed by the value separated by an equal sign (=)."
   ]
  },
  {
   "cell_type": "code",
   "execution_count": 24,
   "id": "9208ad16",
   "metadata": {},
   "outputs": [
    {
     "name": "stdout",
     "output_type": "stream",
     "text": [
      "First Name: Chanyeol\n",
      "Last Name: Park\n"
     ]
    }
   ],
   "source": [
    "#Example of keyword argument:\n",
    "\n",
    "def display_info(first_name, last_name):\n",
    "    print('First Name:', first_name)\n",
    "    print('Last Name:', last_name)\n",
    "\n",
    "display_info(last_name = 'Park', first_name = 'Chanyeol')"
   ]
  },
  {
   "cell_type": "markdown",
   "id": "5e447f9b",
   "metadata": {},
   "source": [
    "- Positional arguments are matched based on their order. The first argument is matched with the first parameter, the second argument with the second parameter, and so on. The order matters in this case.\n",
    "\n",
    "- Keyword arguments are matched based on their parameter names. You can specify the arguments in any order, and the function will correctly map the values to their respective parameters using the specified names.\n",
    "\n"
   ]
  },
  {
   "cell_type": "markdown",
   "id": "fb4cb41e",
   "metadata": {},
   "source": [
    "### 3. What is the purpose of the return statement in a function? Can a function have multiple return statements? Explain with an example.\n"
   ]
  },
  {
   "cell_type": "markdown",
   "id": "3f7feb94",
   "metadata": {},
   "source": [
    "####  <font color=blue> _Answer_ </font>"
   ]
  },
  {
   "cell_type": "markdown",
   "id": "4ab92958",
   "metadata": {},
   "source": [
    "- The return statement in a function serves the purpose of sending a value or multiple values back to the caller of the function. \n",
    "- When a function is called, it executes its code, and when it encounters a return statement, the function immediately stops its execution and returns the specified value (or values) to the caller.\n",
    "- The return statement is crucial in functions because it allows you to capture the results of the function's computations and use them for further processing or store them in variables.\n",
    "- __A function can have multiple return statements__. However, once a return statement is executed in a function, the function's execution is terminated, and the control is immediately passed back to the caller. - - Therefore, __only one return statement will be executed__ during the function's execution."
   ]
  },
  {
   "cell_type": "code",
   "execution_count": 18,
   "id": "2c94e8d3",
   "metadata": {},
   "outputs": [
    {
     "name": "stdout",
     "output_type": "stream",
     "text": [
      "2.0\n",
      "Error: Division by zero is not allowed.\n",
      "None\n"
     ]
    }
   ],
   "source": [
    "#Example_1\n",
    "\n",
    "def divide_numbers(a, b):\n",
    "    if b == 0:\n",
    "        print(\"Error: Division by zero is not allowed.\")\n",
    "        return None  # Return None when division by zero is attempted\n",
    "    else:\n",
    "        result = a / b\n",
    "        return result  # Return the division result\n",
    "\n",
    "num1 = 10\n",
    "num2 = 5\n",
    "\n",
    "result1 = divide_numbers(num1, num2)\n",
    "print(result1) \n",
    "\n",
    "result2 = divide_numbers(num1, 0)\n",
    "print(result2) "
   ]
  },
  {
   "cell_type": "code",
   "execution_count": 19,
   "id": "980c49ae",
   "metadata": {},
   "outputs": [
    {
     "name": "stdout",
     "output_type": "stream",
     "text": [
      "100 is even number\n",
      "111 is odd number\n"
     ]
    }
   ],
   "source": [
    "#Example_2\n",
    "\n",
    "def even_or_odd(num):\n",
    "    if num%2 ==1:\n",
    "        return print(f\"{num} is odd number\")\n",
    "    else:\n",
    "        return print(f\"{num} is even number\")\n",
    "    \n",
    "even_or_odd(100)\n",
    "even_or_odd(111)"
   ]
  },
  {
   "cell_type": "markdown",
   "id": "4fef61c4",
   "metadata": {},
   "source": [
    "### 4. What are lambda functions in Python? How are they different from regular functions? Provide an example where a lambda function can be useful.\n"
   ]
  },
  {
   "cell_type": "markdown",
   "id": "1e4e3253",
   "metadata": {},
   "source": [
    "####  <font color=blue> _Answer_ </font>"
   ]
  },
  {
   "cell_type": "markdown",
   "id": "8c2630e6",
   "metadata": {},
   "source": [
    "- Lambda functions in Python are small, anonymous, and inline functions that can be defined using the __lambda__ keyword. \n",
    "- They are also known as \"lambda expressions\" or \"anonymous functions\" because they don't have a name like regular functions defined using the <code>def</code> keyword.\n",
    "- Lambda functions are typically used for short and simple operations, where a full-fledged function definition is not necessary.\n",
    "- Syntax of lambda fuction:\n",
    " > <code>__lambda__ arguments: expression</code>\n",
    "- Lambda functions can take any number of arguments but can have only one expression. \n",
    "- When the lambda function is called, it evaluates the expression and returns the result.\n",
    "- We use a lambda function to evaluate only one short expression (ideally, a single-line) later. \n",
    "- Usually, we pass a lambda function as an argument to a higher-order function (the one that takes in other functions as arguments), such as Python built-in functions like <code>filter()</code>, <code>map()</code>, or <code>reduce()</code>."
   ]
  },
  {
   "cell_type": "code",
   "execution_count": 14,
   "id": "1e0c6bd0",
   "metadata": {},
   "outputs": [
    {
     "name": "stdout",
     "output_type": "stream",
     "text": [
      "5.0\n"
     ]
    }
   ],
   "source": [
    "#Example_1\n",
    "\n",
    "cube_root= lambda x: x**(1/3) #lambda fucion for finding cube\n",
    "  \n",
    "# Call the lambda function\n",
    "print(cube_root(125))"
   ]
  },
  {
   "cell_type": "code",
   "execution_count": 1,
   "id": "600e2269",
   "metadata": {},
   "outputs": [
    {
     "name": "stdout",
     "output_type": "stream",
     "text": [
      "<map object at 0x0000020A2DD3CBB0>\n"
     ]
    },
    {
     "data": {
      "text/plain": [
       "(10, 20, 30, 40, 50)"
      ]
     },
     "execution_count": 1,
     "metadata": {},
     "output_type": "execute_result"
    }
   ],
   "source": [
    "#Example_2\n",
    "\n",
    "lst = [1, 2, 3, 4, 5]\n",
    "print(map(lambda x: x * 10, lst)) # map the list by increasing each value by 10\n",
    "tpl = tuple(map(lambda x: x * 10, lst))\n",
    "tpl"
   ]
  },
  {
   "cell_type": "markdown",
   "id": "6dd4da98",
   "metadata": {},
   "source": [
    "- We use the map() function in Python to perform a certain operation on each item of an iterable.\n",
    "- map syntax: map(fun, iter)\n",
    "- in above example we use map function to iterate over value and lambda is use inside map as function to increase value 10 times"
   ]
  },
  {
   "cell_type": "markdown",
   "id": "98f67742",
   "metadata": {},
   "source": [
    "### 5. How does the concept of \"scope\" apply to functions in Python? Explain the difference between local scope and global scope"
   ]
  },
  {
   "cell_type": "markdown",
   "id": "0bd76bab",
   "metadata": {},
   "source": [
    "####  <font color=blue> _Answer_ </font>"
   ]
  },
  {
   "cell_type": "markdown",
   "id": "42ba6c03",
   "metadata": {},
   "source": [
    "- In Python, the concept of \"scope\" applies to functions in the context of variable visibility and accessibility. The scope of a variable in a function determines where that variable can be accessed and modified within the program.\n",
    "- There are two main types of scopes related to functions in Python\n",
    "\n",
    "1. __Local Scope (Function Scope):__\n",
    "  - When you define a variable inside a function, it belongs to the local scope of that function. \n",
    "  - Variables with local scope are only accessible within the function where they are defined. \n",
    "  - Once the function execution completes, the local variables are destroyed, and their values are no longer available."
   ]
  },
  {
   "cell_type": "code",
   "execution_count": 11,
   "id": "c3a6dbe1",
   "metadata": {},
   "outputs": [
    {
     "name": "stdout",
     "output_type": "stream",
     "text": [
      "Local Hello\n"
     ]
    },
    {
     "ename": "NameError",
     "evalue": "name 'message' is not defined",
     "output_type": "error",
     "traceback": [
      "\u001b[1;31m---------------------------------------------------------------------------\u001b[0m",
      "\u001b[1;31mNameError\u001b[0m                                 Traceback (most recent call last)",
      "\u001b[1;32m~\\AppData\\Local\\Temp\\ipykernel_13112\\4232943851.py\u001b[0m in \u001b[0;36m<module>\u001b[1;34m\u001b[0m\n\u001b[0;32m     10\u001b[0m \u001b[1;31m# try to access message variable\u001b[0m\u001b[1;33m\u001b[0m\u001b[1;33m\u001b[0m\u001b[0m\n\u001b[0;32m     11\u001b[0m \u001b[1;31m# outside greet() function\u001b[0m\u001b[1;33m\u001b[0m\u001b[1;33m\u001b[0m\u001b[0m\n\u001b[1;32m---> 12\u001b[1;33m \u001b[0mprint\u001b[0m\u001b[1;33m(\u001b[0m\u001b[1;34m\"Trying to print Local variable outside function\"\u001b[0m\u001b[1;33m,\u001b[0m\u001b[0mmessage\u001b[0m\u001b[1;33m)\u001b[0m \u001b[1;31m# NameError\u001b[0m\u001b[1;33m\u001b[0m\u001b[1;33m\u001b[0m\u001b[0m\n\u001b[0m",
      "\u001b[1;31mNameError\u001b[0m: name 'message' is not defined"
     ]
    }
   ],
   "source": [
    "def greet():\n",
    "\n",
    "    # local variable\n",
    "    message = 'Hello'\n",
    "    \n",
    "    print('Local', message)\n",
    "\n",
    "greet()\n",
    "\n",
    "# try to access message variable \n",
    "# outside greet() function\n",
    "print(\"Trying to print Local variable outside function\",message) # NameError"
   ]
  },
  {
   "cell_type": "markdown",
   "id": "4d138f55",
   "metadata": {},
   "source": [
    "2. Global Scope:\n",
    "  - Variables defined outside any function or code block have global scope, making them accessible throughout the entire program, including inside functions. \n",
    "  - Global variables retain their value between function calls and can be accessed and modified from within any function by using the <code>global</code> keyword."
   ]
  },
  {
   "cell_type": "code",
   "execution_count": 9,
   "id": "96c02960",
   "metadata": {},
   "outputs": [
    {
     "name": "stdout",
     "output_type": "stream",
     "text": [
      "Print value of global variable inside fuction 70\n",
      "Gobal variable after modify inside function 70\n"
     ]
    }
   ],
   "source": [
    "global_var = 50  # A global variable\n",
    "\n",
    "def my_function():\n",
    "    local_var = 20  # This is a local variable,\n",
    "    global global_var  # Use the 'global' keyword to modify the global variable\n",
    "    global_var += local_var\n",
    "    print(\"Print value of global variable inside fuction\",global_var)\n",
    "\n",
    "my_function()  \n",
    "print(\"Gobal variable after modify inside function\",global_var)  # Output: 70 (global_var has been modified inside the function)\n"
   ]
  },
  {
   "cell_type": "markdown",
   "id": "2d63623f",
   "metadata": {},
   "source": [
    "### 6. How can you use the \"return\" statement in a Python function to return multiple values?"
   ]
  },
  {
   "cell_type": "markdown",
   "id": "be848982",
   "metadata": {},
   "source": [
    "####  <font color=blue> _Answer_ </font>"
   ]
  },
  {
   "cell_type": "markdown",
   "id": "5d89c8a4",
   "metadata": {},
   "source": [
    "- In Python, you can use the return statement in a function to return multiple values as a tuple. \n",
    "- The return statement can take multiple expressions separated by commas, and these expressions will be packed into a single tuple that is returned from the function.\n",
    "- To receive the multiple values in the calling code, you can unpack the returned tuple into separate variables."
   ]
  },
  {
   "cell_type": "code",
   "execution_count": 6,
   "id": "fc29cd4f",
   "metadata": {},
   "outputs": [
    {
     "name": "stdout",
     "output_type": "stream",
     "text": [
      "10\n",
      "Chanyeol\n",
      "12.2\n"
     ]
    }
   ],
   "source": [
    "# this fuction use to multiple value return \n",
    "def my_data():\n",
    "    x = 10\n",
    "    y = \"Chanyeol\"\n",
    "    z = 12.2\n",
    "    return x, y, z  # Multiple values are returned as a tuple\n",
    "\n",
    "# Calling the function and unpacking the returned tuple into separate variables\n",
    "result1, result2, result3 = my_data()\n",
    "\n",
    "print(result1)  \n",
    "print(result2)  \n",
    "print(result3)"
   ]
  },
  {
   "cell_type": "markdown",
   "id": "d38d8a63",
   "metadata": {},
   "source": [
    "### 7. What is the difference between the \"pass by value\" and \"pass by reference\" concepts when it comes to function arguments in Python?"
   ]
  },
  {
   "cell_type": "markdown",
   "id": "f0dc7e58",
   "metadata": {},
   "source": [
    "####  <font color=blue> _Answer_ </font>`"
   ]
  },
  {
   "cell_type": "markdown",
   "id": "12a7530d",
   "metadata": {},
   "source": [
    "- Python's argument passing model is neither __\"Pass by Value\"__ nor __\"Pass by Reference\"__ but it is __\"Pass by Object Reference\"__.\n",
    "- We know that almost everything in Python is an object. Thus, every value is an object in Python, and all values contain references to actual objects.\n",
    "- In Python, the way arguments are passed to functions depends on the data type of the argument.\n",
    "- Python uses a mechanism called \"pass by object reference\" to pass arguments to functions, which can be thought of as a mix between pass by value and pass by reference.\n",
    "\n",
    "__1. Pass by Value:__\n",
    "  - In a pure pass-by-value system, when you pass a variable as an argument to a function, a copy of the variable's value is made, and this copy is what the function works with. The original variable in the caller's scope remains unchanged.\n",
    "\n",
    "__2. Pass by Reference:__\n",
    "  - In a pure pass-by-reference system, when you pass a variable as an argument to a function, the function receives a reference (i.e., memory address) to the original variable. Any changes made to the parameter within the function will affect the original variable in the caller's scope.\n",
    "\n",
    "__3. Pass by Object Reference (Python's mechanism):__\n",
    "  - In Python, when you pass an argument to a function, what gets passed is not the actual value of the variable nor a direct reference to the variable in memory. Instead, it passes a reference to the object that the variable points to. Whether the function can modify the original object or not depends on the type of the object.\n",
    "  - If the object is <code>mutable</code> (changeable), the changed value is available outside the function. Mutable objects may be <code>list</code>, <code>set</code>, <code>dictionary</code>, <code>byte array</code>.\n",
    "  - If the object is <code>immutable</code> (not changeable), the changed value is not available outside the function. Immutable objects may be numbers (<code>int</code>, <code>float</code>, <code>complex</code>), <code>strings</code>, <code>tuple</code>, <code>frozen set</code>.\n",
    "  - If we pass immutable objects to the function, the passing works like pass by value or call by value.\n",
    "  - If we pass mutable objects to the function, the passing works like pass by reference or call by reference."
   ]
  },
  {
   "cell_type": "code",
   "execution_count": 3,
   "id": "31d585ed",
   "metadata": {},
   "outputs": [
    {
     "name": "stdout",
     "output_type": "stream",
     "text": [
      "Values outside the function before modifying: [1, 2, 3]\n",
      "Values inside the function before modifying: [1, 2, 3]\n",
      "Values inside the function after modifying: [1, 2, 4]\n",
      "Values outside the function after modifying: [1, 2, 4]\n"
     ]
    }
   ],
   "source": [
    "# This program illustrates the concept of call by object reference using mutable objects.\n",
    "def my_funct(y):\n",
    "    print('Values inside the function before modifying:',y)\n",
    "    y[2] = 4 # modifying value.\n",
    "    print('Values inside the function after modifying:',y)\n",
    "\n",
    "# Main part of program.\n",
    "x = [1, 2, 3] # List of values.\n",
    "print('Values outside the function before modifying:',x)\n",
    "\n",
    "my_funct(x) # calling function with passing x to function parameter y.\n",
    "print('Values outside the function after modifying:',x)"
   ]
  },
  {
   "cell_type": "markdown",
   "id": "8fbed363",
   "metadata": {},
   "source": [
    "  - In this example, ‘x’ is a list of values. Since the list is a mutable object in Python, the passing acts like call by reference.\n",
    "\n"
   ]
  },
  {
   "cell_type": "code",
   "execution_count": 4,
   "id": "e53c5606",
   "metadata": {
    "scrolled": false
   },
   "outputs": [
    {
     "name": "stdout",
     "output_type": "stream",
     "text": [
      "String outside the function before modifying: Chen\n",
      "String inside the function before modifying: Chen\n",
      "String inside the function after modifying: Sehun\n",
      "String outside the function after modifying: Chen\n"
     ]
    }
   ],
   "source": [
    "# This program illustrates the concept of call by object reference using immutable objects.\n",
    "def my_func(name):\n",
    "    print('String inside the function before modifying:',name)\n",
    "    name = 'Sehun' # modifying value.\n",
    "    print('String inside the function after modifying:',name)\n",
    "\n",
    "# Main part of program.\n",
    "n = 'Chen'\n",
    "print('String outside the function before modifying:',n)\n",
    "\n",
    "my_func(n) # calling function with passing n to function parameter name.\n",
    "print('String outside the function after modifying:',n)"
   ]
  },
  {
   "cell_type": "markdown",
   "id": "e5f6f25c",
   "metadata": {},
   "source": [
    "  - In this example, n is a string. Since string is an immutable object in Python, the passing acts like call by value."
   ]
  },
  {
   "cell_type": "markdown",
   "id": "d275f2a8",
   "metadata": {},
   "source": [
    "### 8. Create a function that can intake integer or decimal value and do following operations:\n",
    "#### a. Logarithmic function (log x) <br> b. Exponential function (exp(x)) <br> c. Power function with base 2 (2^x) <br> d. Square root\n"
   ]
  },
  {
   "cell_type": "markdown",
   "id": "db3ba2d0",
   "metadata": {},
   "source": [
    "####  <font color=blue> _Answer_ </font>"
   ]
  },
  {
   "cell_type": "code",
   "execution_count": 2,
   "id": "b9f7ed3b",
   "metadata": {},
   "outputs": [
    {
     "name": "stdout",
     "output_type": "stream",
     "text": [
      "Logarithmic function (log 4.0) is : 1.3862943611198906\n",
      "Exponential function (exp(4.0)) is: 54.598150033144236\n",
      "Power function with base 2 (2^4.0) is:16.0\n",
      "Square root of 4.0 is: 2.0\n"
     ]
    }
   ],
   "source": [
    "import math\n",
    "\n",
    "def math_operations(x):\n",
    "    # Logarithmic function (log x)\n",
    "    log_result = math.log(x)\n",
    "\n",
    "    # Exponential function (exp(x))\n",
    "    exp_result = math.exp(x)\n",
    "\n",
    "    # Power function with base 2 (2^x)\n",
    "    power_result = math.pow(2, x)\n",
    "\n",
    "    # Square root\n",
    "    sqrt_result = math.sqrt(x)\n",
    "\n",
    "    return log_result, exp_result, power_result, sqrt_result\n",
    "\n",
    "# Test the function\n",
    "value = 4.0\n",
    "log_res, exp_res, power_res, sqrt_res = math_operations(value)\n",
    "print(\"Logarithmic function (log {}) is : {}\" .format(value,log_res))\n",
    "print(\"Exponential function (exp({})) is: {}\" .format(value,exp_res))\n",
    "print(\"Power function with base 2 (2^{}) is:{}\" .format(value,power_res))\n",
    "print(\"Square root of {} is: {}\".format(value,sqrt_res))\n"
   ]
  },
  {
   "cell_type": "markdown",
   "id": "7ed900ca",
   "metadata": {},
   "source": [
    "### 9. Create a function that takes a full name as an argument and returns first name and last name."
   ]
  },
  {
   "cell_type": "markdown",
   "id": "0171f7a8",
   "metadata": {},
   "source": [
    "####  <font color=blue> _Answer_ </font>"
   ]
  },
  {
   "cell_type": "code",
   "execution_count": 2,
   "id": "dd9a7c0f",
   "metadata": {},
   "outputs": [
    {
     "name": "stdout",
     "output_type": "stream",
     "text": [
      "First Name: Thomas\n",
      "Last Name: Shoy\n"
     ]
    }
   ],
   "source": [
    "def first_last_name(full_name):\n",
    "    # Split the full name into a list of words\n",
    "    name  = full_name.split()\n",
    "\n",
    "    # Extract the first name and last name\n",
    "    first_name = name[0]\n",
    "    last_name = name[-1]\n",
    "\n",
    "    return first_name, last_name\n",
    "\n",
    "\n",
    "full_name = \"Thomas Markas Shoy\"\n",
    "first_name, last_name = first_last_name(full_name) #fucion call\n",
    "print(\"First Name:\", first_name)\n",
    "print(\"Last Name:\", last_name)"
   ]
  },
  {
   "cell_type": "code",
   "execution_count": null,
   "id": "ebc4d83b",
   "metadata": {},
   "outputs": [],
   "source": []
  }
 ],
 "metadata": {
  "kernelspec": {
   "display_name": "Python 3 (ipykernel)",
   "language": "python",
   "name": "python3"
  },
  "language_info": {
   "codemirror_mode": {
    "name": "ipython",
    "version": 3
   },
   "file_extension": ".py",
   "mimetype": "text/x-python",
   "name": "python",
   "nbconvert_exporter": "python",
   "pygments_lexer": "ipython3",
   "version": "3.9.13"
  }
 },
 "nbformat": 4,
 "nbformat_minor": 5
}
