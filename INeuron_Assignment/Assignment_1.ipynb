{
 "cells": [
  {
   "cell_type": "markdown",
   "id": "674c54f9",
   "metadata": {},
   "source": [
    "<h1 align = \"center\"> Python Assignment_1 </h1>"
   ]
  },
  {
   "cell_type": "markdown",
   "id": "361015b6",
   "metadata": {},
   "source": [
    "###  1. In the below elements which of them are values or an expression? eg:- values can be integer or string and expressions will be mathematical operators."
   ]
  },
  {
   "cell_type": "markdown",
   "id": "2456c07c",
   "metadata": {},
   "source": [
    "####  <font color=blue> _Answer_ </font>\n",
    "\n",
    "|      Value         | Expression         |\n",
    "|--------------------|--------------------|\n",
    "|'hello'             | *                  |\n",
    "|-87.8               | -                  |\n",
    "| 6                  |  /                 |\n",
    "|                    |  +                 |"
   ]
  },
  {
   "cell_type": "markdown",
   "id": "1f6739aa",
   "metadata": {},
   "source": [
    "### 2. What is the difference between string and variable?"
   ]
  },
  {
   "cell_type": "markdown",
   "id": "2679c945",
   "metadata": {},
   "source": [
    "####  <font color=blue> _Answer_ </font>\n",
    "\n",
    "<table style =\"width 70%\">\n",
    "    <tr>\n",
    "        <th> String </th>\n",
    "        <th> Variable </th>\n",
    "    </tr>\n",
    "    <tr>\n",
    "        <td> Anything you assign to variable using single or double quotes will be considered as a string </td>\n",
    "        <td> Variable as an identifier to store a value in memorylocation and manuplulation in neccessory  </td>\n",
    "    </tr>\n",
    "    <tr>\n",
    "        <td>Python String are immutable which mean they cannot be changed after they are created </td>\n",
    "        <td> To create a variable you just assign value and then start using it. assignment is done with equal to sign(=)   </td>\n",
    "    </tr>\n",
    "    <tr>\n",
    "        <td>Example of String: <br> \"Have a nice day\" </td>\n",
    "        <td> Example of Variable <br> a= 5  </td>\n",
    "    </tr>\n",
    "</table>\n",
    "    \n"
   ]
  },
  {
   "cell_type": "markdown",
   "id": "d8dceaa2",
   "metadata": {},
   "source": [
    "### 3. Describe three different data types."
   ]
  },
  {
   "cell_type": "markdown",
   "id": "ad501790",
   "metadata": {},
   "source": [
    "####  <font color=blue> _Answer_ </font>\n"
   ]
  },
  {
   "cell_type": "markdown",
   "id": "e20f1d31",
   "metadata": {},
   "source": [
    "__Numerical data type__\n",
    "1. Integer \n",
    "    - It is numerial datatype. It contains positive or negative whole numbers (without fractions or decimals).\n",
    "    - Python, there is no limit to how long an integer value can be.\n",
    "    \n",
    "    \n",
    "\n",
    "2. Float \n",
    "    - Floting point number is number either positive or negative and it contain one or more decimal\n",
    "\n",
    "\n",
    "\n",
    "3. Complex number\n",
    "    - complex number contain an order pair i.e. x+iy where x is real part and y is imaginary part\n",
    "    - In python imaginary part is denoted by j"
   ]
  },
  {
   "cell_type": "code",
   "execution_count": 11,
   "id": "6cdb8e80",
   "metadata": {},
   "outputs": [
    {
     "name": "stdout",
     "output_type": "stream",
     "text": [
      "<class 'int'>\n"
     ]
    }
   ],
   "source": [
    "# Int Data type\n",
    "Number = 123\n",
    "print(type(Number))"
   ]
  },
  {
   "cell_type": "code",
   "execution_count": 12,
   "id": "154bea22",
   "metadata": {},
   "outputs": [
    {
     "name": "stdout",
     "output_type": "stream",
     "text": [
      "<class 'float'>\n"
     ]
    }
   ],
   "source": [
    "#Floating point number \n",
    "Number = 20.25\n",
    "print(type(Number))"
   ]
  },
  {
   "cell_type": "code",
   "execution_count": 13,
   "id": "a49abef9",
   "metadata": {},
   "outputs": [
    {
     "name": "stdout",
     "output_type": "stream",
     "text": [
      "<class 'complex'>\n"
     ]
    }
   ],
   "source": [
    "# complex number\n",
    "Number = 1+4j\n",
    "print(type(Number))"
   ]
  },
  {
   "cell_type": "markdown",
   "id": "47194d15",
   "metadata": {},
   "source": [
    "__String__\n",
    "- The String can be defined as the Sequence of characters represented in the quotation marks in Python.\n",
    "- we can use single, double or Tripl quotes to define a string. To Concatenate the Two string a we can use +."
   ]
  },
  {
   "cell_type": "code",
   "execution_count": 8,
   "id": "6ced9f0c",
   "metadata": {},
   "outputs": [
    {
     "name": "stdout",
     "output_type": "stream",
     "text": [
      "<class 'str'>\n"
     ]
    }
   ],
   "source": [
    "s1 = \"Hello Guys\"\n",
    "print(type(s1))"
   ]
  },
  {
   "cell_type": "markdown",
   "id": "983cf9a3",
   "metadata": {},
   "source": [
    "__Boolean__\n",
    "- Boolean type provides two built- in value True and False.\n",
    "- These values are used to determine the given statement true or false it denotes by the bool class"
   ]
  },
  {
   "cell_type": "code",
   "execution_count": 9,
   "id": "4eb47f3c",
   "metadata": {},
   "outputs": [
    {
     "name": "stdout",
     "output_type": "stream",
     "text": [
      "<class 'bool'>\n"
     ]
    }
   ],
   "source": [
    "b = True\n",
    "print(type(b))"
   ]
  },
  {
   "cell_type": "markdown",
   "id": "ad3c4d20",
   "metadata": {},
   "source": [
    "### 4. What is an expression made up of? What do all expressions do?"
   ]
  },
  {
   "cell_type": "markdown",
   "id": "dc9dc2cf",
   "metadata": {},
   "source": [
    "####  <font color=blue> _Answer_ </font>\n"
   ]
  },
  {
   "cell_type": "markdown",
   "id": "b2114da4",
   "metadata": {},
   "source": [
    "- An expression is a combination of operators and operands that is interpreted to produce some other value. In any programming language, an expression is evaluated as per the precedence of its operators.  \n",
    "- So that if there is more than one operator in an expression, their precedence decides which operation will be performed first.\n",
    "- There are 4 types of expression\n",
    "  1. __Arithmatic Expression:__ \n",
    "      - Evaluate single arithmatic value\n",
    "  2. __Relational Expression:__ \n",
    "      - Use to compare two value result in either True or False\n",
    "  3. __Logical Expression:__ \n",
    "      - It basically specify one ore more condition result in either true or flase\n",
    "  4. __Bitwise Expression:__ \n",
    "      - It perform computation on bit level"
   ]
  },
  {
   "cell_type": "code",
   "execution_count": 1,
   "id": "9174ffd3",
   "metadata": {},
   "outputs": [
    {
     "name": "stdout",
     "output_type": "stream",
     "text": [
      "Adiition : 52\n",
      "Substraction: 28\n",
      "multiplication:  480\n",
      "Division: 3.3333333333333335\n"
     ]
    }
   ],
   "source": [
    "# Arithmetic Expressions\n",
    "x = 40\n",
    "y = 12\n",
    "  \n",
    "add = x + y\n",
    "sub = x - y\n",
    "pro = x * y\n",
    "div = x / y\n",
    "  \n",
    "print('Adiition :', add)\n",
    "print('Substraction:',sub)\n",
    "print('multiplication: ',pro)\n",
    "print('Division:',div)"
   ]
  },
  {
   "cell_type": "code",
   "execution_count": 2,
   "id": "70451192",
   "metadata": {},
   "outputs": [
    {
     "name": "stdout",
     "output_type": "stream",
     "text": [
      "False\n",
      "True\n"
     ]
    }
   ],
   "source": [
    "# Relational Expression \n",
    "condition= (10>20)\n",
    "print(condition)\n",
    "equal = (45==45)\n",
    "print(equal)"
   ]
  },
  {
   "cell_type": "code",
   "execution_count": 4,
   "id": "915a38bc",
   "metadata": {},
   "outputs": [
    {
     "name": "stdout",
     "output_type": "stream",
     "text": [
      "Logical expression (p > q and r > s) returns  False\n"
     ]
    }
   ],
   "source": [
    "#logical Expression \n",
    "p = 10\n",
    "q = 15\n",
    "r = 5\n",
    "s = 20\n",
    "result = p > q and r > s\n",
    "print(\"Logical expression (p > q and r > s) returns \", result)"
   ]
  },
  {
   "cell_type": "code",
   "execution_count": 3,
   "id": "4373721a",
   "metadata": {},
   "outputs": [
    {
     "name": "stdout",
     "output_type": "stream",
     "text": [
      "3 24\n"
     ]
    }
   ],
   "source": [
    "# Bitwise Expressions\n",
    "a = 12\n",
    "  \n",
    "x = a >> 2 # 12 as binary 1100 shift to right by 2\n",
    "           # 1100>>2 : 0011\n",
    "y = a << 1 # 12 as binary 1100 shift to left by 1\n",
    "           # 1100<< 1:11000\n",
    "\n",
    "print(x, y)"
   ]
  },
  {
   "cell_type": "markdown",
   "id": "f25d2ed9",
   "metadata": {},
   "source": [
    " ### 5. This assignment statements, like spam = 10. What is the difference between an expression and a statement?"
   ]
  },
  {
   "cell_type": "markdown",
   "id": "3d2691b9",
   "metadata": {},
   "source": [
    "####  <font color=blue> _Answer_ </font>\n"
   ]
  },
  {
   "cell_type": "markdown",
   "id": "f8673971",
   "metadata": {},
   "source": [
    "1. __Expression__\n",
    "    - An expression is a piece of code that produces a value. We often say that expression can be evaluated (or reduced) to a value.\n",
    "    - So an expression is anything that results in a value.\n",
    "    - For example, this simple addition (1+3) is an expression, as it evaluates a value of 5.\n",
    "    - The Evaluation of an expression does not changes state and produces at least one value as a result\n",
    "    - The evaluated result either return to a funcation call or displays at the python prompt\n",
    "    - A Value or a Variable all by iteself is also considerd an expression, because these always evaluates to itself\n",
    "    \n",
    "\n",
    "\n",
    "2. __Statement__\n",
    "    - A statement is a piece of code that does something.\n",
    "    - It performs action(s) or instruction(s) that has an effect.\n",
    "    - Any instruction that python interprter can execute is called a Statement. \n",
    "    - A Statement is the smallest executable uint of code that has an effect like creating a variable or displaying a value Each and every line of code that we written in any programming language is called a statement Because all the line are ececutable by the interpreter or compiler of that programming language\n",
    "    "
   ]
  },
  {
   "cell_type": "markdown",
   "id": "5c89aa09",
   "metadata": {},
   "source": [
    "### 6. After running the following code, what does the variable bacon contain? "
   ]
  },
  {
   "cell_type": "markdown",
   "id": "d03b3f64",
   "metadata": {},
   "source": [
    "####  <font color=blue> _Answer_ </font>\n"
   ]
  },
  {
   "cell_type": "code",
   "execution_count": 6,
   "id": "d7d4fcc2",
   "metadata": {},
   "outputs": [
    {
     "name": "stdout",
     "output_type": "stream",
     "text": [
      "Answer =  22\n"
     ]
    }
   ],
   "source": [
    "bacon = 22\n",
    "bacon + 1\n",
    "print(\"Answer = \",bacon)"
   ]
  },
  {
   "cell_type": "markdown",
   "id": "c20d46b7",
   "metadata": {},
   "source": [
    "- As the bacon + 1 expression does not reassign the value in bacon bacon value remain unchanged\n",
    "- (this would need an assignment statement: bacon = bacon + 1)"
   ]
  },
  {
   "cell_type": "markdown",
   "id": "9e92e00f",
   "metadata": {},
   "source": [
    "### 7. What should the values of the following two terms be?"
   ]
  },
  {
   "cell_type": "markdown",
   "id": "f0c10fd5",
   "metadata": {},
   "source": [
    "####  <font color=blue> _Answer_ </font>\n"
   ]
  },
  {
   "cell_type": "code",
   "execution_count": 10,
   "id": "17e3fe2b",
   "metadata": {},
   "outputs": [
    {
     "data": {
      "text/plain": [
       "'spamspamspam'"
      ]
     },
     "execution_count": 10,
     "metadata": {},
     "output_type": "execute_result"
    }
   ],
   "source": [
    "'spam'+'spamspam'"
   ]
  },
  {
   "cell_type": "code",
   "execution_count": 11,
   "id": "1fdc517b",
   "metadata": {},
   "outputs": [
    {
     "data": {
      "text/plain": [
       "'spamspamspam'"
      ]
     },
     "execution_count": 11,
     "metadata": {},
     "output_type": "execute_result"
    }
   ],
   "source": [
    "'spam'*3"
   ]
  },
  {
   "cell_type": "markdown",
   "id": "9bd2121a",
   "metadata": {},
   "source": [
    "### 8. Why is eggs a valid variable name while 100 is invalid?"
   ]
  },
  {
   "cell_type": "markdown",
   "id": "a318a9a9",
   "metadata": {},
   "source": [
    "####  <font color=blue> _Answer_ </font>\n"
   ]
  },
  {
   "cell_type": "markdown",
   "id": "d3fa359c",
   "metadata": {},
   "source": [
    "- A variable name and an identifier can consist of:\n",
    "    - the uppercase letters \"A\" through \"Z\" \n",
    "    - the lowercase letters \"a\" through \"z\" \n",
    "    - the underscore _ and, except for the first character, \n",
    "    - the digits 0 through 9. \n",
    "    - Python 3.x is based on Unicode. That is, variable names and identifier names can additionally contain Unicode characters as well.\n",
    "    \n",
    "- Here eggs is valid becuse of it satisfy the above condtion. i.e. eggs consistes of lower case and first character does not start with number\n",
    "- But in the second example 100 does not follow the condition and also first charater is start with number so that why this is invalid"
   ]
  },
  {
   "cell_type": "markdown",
   "id": "2509589e",
   "metadata": {},
   "source": [
    "### 9. What three functions can be used to get the integer, floating-point number, or string version of a value?"
   ]
  },
  {
   "cell_type": "markdown",
   "id": "3875c292",
   "metadata": {},
   "source": [
    "####  <font color=blue> _Answer_ </font>\n"
   ]
  },
  {
   "cell_type": "markdown",
   "id": "e822b3c4",
   "metadata": {},
   "source": [
    "The int(), float(), and str() functions will evaluate to the integer, floating-point number, and string versions of the value passed to them respectively."
   ]
  },
  {
   "cell_type": "markdown",
   "id": "60c898f1",
   "metadata": {},
   "source": [
    "### 10. Why does this expression cause an error? How can you fix it?"
   ]
  },
  {
   "cell_type": "markdown",
   "id": "3e677994",
   "metadata": {},
   "source": [
    "####  <font color=blue> _Answer_ </font>\n"
   ]
  },
  {
   "cell_type": "markdown",
   "id": "15e0b609",
   "metadata": {},
   "source": [
    "__'I have eaten ' + 99 + ' burritos.'__\n",
    "- this expression cause an error because concation of string with other data type is invalid\n",
    "- the problem can be solved by typcasting (methode to convert one datatype to another) \n",
    "- i.e. changing the datatype of 99 from integer to string"
   ]
  },
  {
   "cell_type": "code",
   "execution_count": 14,
   "id": "22de655c",
   "metadata": {},
   "outputs": [
    {
     "data": {
      "text/plain": [
       "'I have eaten 99 burritos.'"
      ]
     },
     "execution_count": 14,
     "metadata": {},
     "output_type": "execute_result"
    }
   ],
   "source": [
    "'I have eaten ' + str(99) + ' burritos.'"
   ]
  }
 ],
 "metadata": {
  "kernelspec": {
   "display_name": "Python 3 (ipykernel)",
   "language": "python",
   "name": "python3"
  },
  "language_info": {
   "codemirror_mode": {
    "name": "ipython",
    "version": 3
   },
   "file_extension": ".py",
   "mimetype": "text/x-python",
   "name": "python",
   "nbconvert_exporter": "python",
   "pygments_lexer": "ipython3",
   "version": "3.9.13"
  }
 },
 "nbformat": 4,
 "nbformat_minor": 5
}
