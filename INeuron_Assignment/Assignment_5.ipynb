{
 "cells": [
  {
   "cell_type": "markdown",
   "id": "da94dda6",
   "metadata": {},
   "source": [
    "<h1 align=\"center\">Assignment_5</h1>"
   ]
  },
  {
   "cell_type": "markdown",
   "id": "6b35051b",
   "metadata": {},
   "source": [
    "### 1. What does an empty dictionary's code look like?"
   ]
  },
  {
   "cell_type": "markdown",
   "id": "3ab1ccac",
   "metadata": {},
   "source": [
    "<font color = blue> _Answer_ </font>"
   ]
  },
  {
   "cell_type": "code",
   "execution_count": 1,
   "id": "a12e321b",
   "metadata": {},
   "outputs": [
    {
     "name": "stdout",
     "output_type": "stream",
     "text": [
      "{}\n"
     ]
    }
   ],
   "source": [
    "d = {}\n",
    "print(d)"
   ]
  },
  {
   "cell_type": "markdown",
   "id": "ad139655",
   "metadata": {},
   "source": [
    "### 2. What is the value of a dictionary value with the key 'foo' and the value 42?"
   ]
  },
  {
   "cell_type": "markdown",
   "id": "03a33a5f",
   "metadata": {},
   "source": [
    "<font color = blue> _Answer_ </font>"
   ]
  },
  {
   "cell_type": "markdown",
   "id": "c20a031d",
   "metadata": {},
   "source": [
    "- If the value is present in the dictionary it shown like below example otherwise if it is not found in the dictionary it return Keyerror that means key is not in that dictionary"
   ]
  },
  {
   "cell_type": "code",
   "execution_count": 3,
   "id": "a4e753be",
   "metadata": {},
   "outputs": [
    {
     "name": "stdout",
     "output_type": "stream",
     "text": [
      "{'foo': 42}\n"
     ]
    }
   ],
   "source": [
    "dictionary = {'foo':42}\n",
    "print(dictionary)"
   ]
  },
  {
   "cell_type": "markdown",
   "id": "6fee685a",
   "metadata": {},
   "source": [
    "### 3. What is the most significant distinction between a dictionary and a list?"
   ]
  },
  {
   "cell_type": "markdown",
   "id": "8ca6436b",
   "metadata": {},
   "source": [
    "<font color = blue> _Answer_ </font>"
   ]
  },
  {
   "cell_type": "markdown",
   "id": "a9648d05",
   "metadata": {},
   "source": [
    "- Dictionaries are represented by {} where as listed are represented by []\n",
    "- The Items stored in a dictionary are Unordered , while the items in a list are ordered\n",
    "- We don't indexing in dictionary as we use key to access values"
   ]
  },
  {
   "cell_type": "markdown",
   "id": "8f9e8c8b",
   "metadata": {},
   "source": [
    "### 4. What happens if you try to access spam['foo'] if spam is {'bar': 100}?"
   ]
  },
  {
   "cell_type": "markdown",
   "id": "b8d943b3",
   "metadata": {},
   "source": [
    "<font color = blue> _Answer_ </font>"
   ]
  },
  {
   "cell_type": "markdown",
   "id": "822e1682",
   "metadata": {},
   "source": [
    "- As there is no key \"foo\" in dictionary spam\n",
    "-we will get a keyError KeyError: 'foo'"
   ]
  },
  {
   "cell_type": "code",
   "execution_count": 5,
   "id": "7e22c7ee",
   "metadata": {},
   "outputs": [
    {
     "ename": "KeyError",
     "evalue": "'foo'",
     "output_type": "error",
     "traceback": [
      "\u001b[1;31m---------------------------------------------------------------------------\u001b[0m",
      "\u001b[1;31mKeyError\u001b[0m                                  Traceback (most recent call last)",
      "\u001b[1;32m~\\AppData\\Local\\Temp\\ipykernel_12196\\4012900036.py\u001b[0m in \u001b[0;36m<module>\u001b[1;34m\u001b[0m\n\u001b[0;32m      1\u001b[0m \u001b[0mspam\u001b[0m \u001b[1;33m=\u001b[0m\u001b[1;33m{\u001b[0m\u001b[1;34m'bar'\u001b[0m\u001b[1;33m:\u001b[0m \u001b[1;36m100\u001b[0m\u001b[1;33m}\u001b[0m\u001b[1;33m\u001b[0m\u001b[1;33m\u001b[0m\u001b[0m\n\u001b[1;32m----> 2\u001b[1;33m \u001b[0mspam\u001b[0m\u001b[1;33m[\u001b[0m\u001b[1;34m'foo'\u001b[0m\u001b[1;33m]\u001b[0m\u001b[1;33m\u001b[0m\u001b[1;33m\u001b[0m\u001b[0m\n\u001b[0m",
      "\u001b[1;31mKeyError\u001b[0m: 'foo'"
     ]
    }
   ],
   "source": [
    "spam ={'bar': 100}\n",
    "spam['foo']"
   ]
  },
  {
   "cell_type": "markdown",
   "id": "615c0dc0",
   "metadata": {},
   "source": [
    "### 5. If a dictionary is stored in spam, what is the difference between the expressions 'cat' in spam and 'cat' in spam.keys()?"
   ]
  },
  {
   "cell_type": "markdown",
   "id": "6e8094c4",
   "metadata": {},
   "source": [
    "<font color = blue> _Answer_ </font>"
   ]
  },
  {
   "cell_type": "markdown",
   "id": "6a2363c7",
   "metadata": {},
   "source": [
    "- There is no difference\n",
    "- 'cat' in spam: This expression checks whether there is a 'cat' KEY in the dictionary\n",
    "- 'cat' in spam.keys(): This will checks whether there is a key 'cat' in spam."
   ]
  },
  {
   "cell_type": "code",
   "execution_count": 6,
   "id": "ee6e049f",
   "metadata": {},
   "outputs": [
    {
     "name": "stdout",
     "output_type": "stream",
     "text": [
      "True True\n"
     ]
    }
   ],
   "source": [
    "spam = {'cat': 123, 'dog': 456}\n",
    "a = 'cat' in spam\n",
    "b = 'cat' in spam.keys()\n",
    "print(a, b)"
   ]
  },
  {
   "cell_type": "markdown",
   "id": "68647e02",
   "metadata": {},
   "source": [
    "### 6. If a dictionary is stored in spam, what is the difference between the expressions 'cat' in spam and 'cat' in spam.values()?"
   ]
  },
  {
   "cell_type": "markdown",
   "id": "6899b8df",
   "metadata": {},
   "source": [
    "<font color = blue> _Answer_ </font>"
   ]
  },
  {
   "cell_type": "markdown",
   "id": "1688b123",
   "metadata": {},
   "source": [
    "- There is no difference\n",
    "- 'cat' in spam: This expression checks whether there is a 'cat' KEY in the dictionary\n",
    "- 'cat' in spam.keys(): This will checks whether there is a key 'cat' in spam."
   ]
  },
  {
   "cell_type": "code",
   "execution_count": 7,
   "id": "8d60808a",
   "metadata": {},
   "outputs": [
    {
     "name": "stdout",
     "output_type": "stream",
     "text": [
      "True True\n"
     ]
    }
   ],
   "source": [
    "spam = {'cat': 123, 'dog': 456}\n",
    "a = 'cat' in spam\n",
    "b = 'cat' in spam.keys()\n",
    "print(a, b)"
   ]
  },
  {
   "cell_type": "markdown",
   "id": "7008a647",
   "metadata": {},
   "source": [
    "### 7. What is a shortcut for the following code?<br> if 'color' not in spam: <br>spam['color'] = 'black'\n"
   ]
  },
  {
   "cell_type": "markdown",
   "id": "12c4b57b",
   "metadata": {},
   "source": [
    "<font color = blue> _Answer_ </font>"
   ]
  },
  {
   "cell_type": "code",
   "execution_count": 8,
   "id": "920c5e77",
   "metadata": {},
   "outputs": [
    {
     "data": {
      "text/plain": [
       "'black'"
      ]
     },
     "execution_count": 8,
     "metadata": {},
     "output_type": "execute_result"
    }
   ],
   "source": [
    "result = spam.setdefault('color','black')\n",
    "result"
   ]
  },
  {
   "cell_type": "markdown",
   "id": "5bad7577",
   "metadata": {},
   "source": [
    "### 8. How do you \"pretty print\" dictionary values using which module and function?"
   ]
  },
  {
   "cell_type": "markdown",
   "id": "03873f80",
   "metadata": {},
   "source": [
    "<font color = blue> _Answer_ </font>"
   ]
  },
  {
   "cell_type": "code",
   "execution_count": 9,
   "id": "7f9f5a71",
   "metadata": {},
   "outputs": [
    {
     "name": "stdout",
     "output_type": "stream",
     "text": [
      "'black'\n"
     ]
    }
   ],
   "source": [
    "import pprint\n",
    "pprint.pprint(result)"
   ]
  }
 ],
 "metadata": {
  "kernelspec": {
   "display_name": "Python 3 (ipykernel)",
   "language": "python",
   "name": "python3"
  },
  "language_info": {
   "codemirror_mode": {
    "name": "ipython",
    "version": 3
   },
   "file_extension": ".py",
   "mimetype": "text/x-python",
   "name": "python",
   "nbconvert_exporter": "python",
   "pygments_lexer": "ipython3",
   "version": "3.9.13"
  }
 },
 "nbformat": 4,
 "nbformat_minor": 5
}
