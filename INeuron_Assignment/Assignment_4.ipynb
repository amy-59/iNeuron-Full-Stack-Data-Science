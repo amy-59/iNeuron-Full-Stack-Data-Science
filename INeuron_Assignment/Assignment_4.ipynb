{
 "cells": [
  {
   "cell_type": "markdown",
   "id": "a1a73c31",
   "metadata": {},
   "source": [
    "<h1 align = \"center\">Assignment No 4</h1>"
   ]
  },
  {
   "cell_type": "markdown",
   "id": "60a5d5ab",
   "metadata": {},
   "source": [
    "### 1. What exactly is []?"
   ]
  },
  {
   "cell_type": "markdown",
   "id": "3bb54408",
   "metadata": {},
   "source": [
    "####  <font color=blue> _Answer_ </font>\n",
    "[] is the Empty List Value. It means this list contain no elements or we can call it as Null List."
   ]
  },
  {
   "cell_type": "markdown",
   "id": "97521f39",
   "metadata": {},
   "source": [
    "### 2. In a list of values stored in a variable called spam, how would you assign the value 'hello' as the third value? (Assume [2, 4, 6, 8, 10] are in spam.)"
   ]
  },
  {
   "cell_type": "markdown",
   "id": "39eb058d",
   "metadata": {},
   "source": [
    "####  <font color=blue> _Answer_ </font>"
   ]
  },
  {
   "cell_type": "markdown",
   "id": "90d683c2",
   "metadata": {},
   "source": [
    "\n",
    "This is a list spam = [2, 4, 6, 8, 10] now i want to store 'Hello' at the third postion spam[2] = 'hello'\n"
   ]
  },
  {
   "cell_type": "code",
   "execution_count": 1,
   "id": "e16af8b4",
   "metadata": {},
   "outputs": [],
   "source": [
    "spam=[2,4,6,8,10]"
   ]
  },
  {
   "cell_type": "code",
   "execution_count": 2,
   "id": "be4ff2f5",
   "metadata": {},
   "outputs": [],
   "source": [
    "spam[2]='hello'"
   ]
  },
  {
   "cell_type": "code",
   "execution_count": 3,
   "id": "08d44664",
   "metadata": {},
   "outputs": [
    {
     "data": {
      "text/plain": [
       "[2, 4, 'hello', 8, 10]"
      ]
     },
     "execution_count": 3,
     "metadata": {},
     "output_type": "execute_result"
    }
   ],
   "source": [
    "spam"
   ]
  },
  {
   "cell_type": "markdown",
   "id": "362dabd2",
   "metadata": {},
   "source": [
    "### <font color =#80000 > Let's pretend the spam includes the list ['a', 'b', 'c', 'd'] for the next three queries </font>"
   ]
  },
  {
   "cell_type": "code",
   "execution_count": 4,
   "id": "f3ff95d0",
   "metadata": {},
   "outputs": [],
   "source": [
    "spam=['a','b','c','d']\n"
   ]
  },
  {
   "cell_type": "code",
   "execution_count": 5,
   "id": "f1e6ceb5",
   "metadata": {},
   "outputs": [
    {
     "data": {
      "text/plain": [
       "['a', 'b', 'c', 'd']"
      ]
     },
     "execution_count": 5,
     "metadata": {},
     "output_type": "execute_result"
    }
   ],
   "source": [
    "spam"
   ]
  },
  {
   "cell_type": "markdown",
   "id": "762336b4",
   "metadata": {},
   "source": [
    "### 3. What is the value of spam[int(int('3' * 2) / 11)]?"
   ]
  },
  {
   "cell_type": "markdown",
   "id": "95e51848",
   "metadata": {},
   "source": [
    "####  <font color=blue> _Answer_ </font>"
   ]
  },
  {
   "cell_type": "code",
   "execution_count": 6,
   "id": "e2e0f0b6",
   "metadata": {},
   "outputs": [
    {
     "name": "stdout",
     "output_type": "stream",
     "text": [
      "The Value of spam[int(int('3' * 2) / 11)] is:\n",
      " d\n"
     ]
    }
   ],
   "source": [
    "print(f\"The Value of spam[int(int('3' * 2) / 11)] is:\\n {spam[int(int('3' * 2) / 11)]}\")"
   ]
  },
  {
   "cell_type": "markdown",
   "id": "517694ef",
   "metadata": {},
   "source": [
    "### 4. What is the value of spam[-1]?"
   ]
  },
  {
   "cell_type": "markdown",
   "id": "242603e8",
   "metadata": {},
   "source": [
    "####  <font color=blue> _Answer_ </font>"
   ]
  },
  {
   "cell_type": "code",
   "execution_count": 7,
   "id": "178299f8",
   "metadata": {},
   "outputs": [
    {
     "name": "stdout",
     "output_type": "stream",
     "text": [
      "The value of spam[-1] is :\n",
      " d\n"
     ]
    }
   ],
   "source": [
    "print(f'The value of spam[-1] is :\\n {spam[-1]}')"
   ]
  },
  {
   "cell_type": "markdown",
   "id": "c60cee4b",
   "metadata": {},
   "source": [
    "### 5. What is the value of spam[:2]?"
   ]
  },
  {
   "cell_type": "markdown",
   "id": "2b286c6c",
   "metadata": {},
   "source": [
    "####  <font color=blue> _Answer_ </font>"
   ]
  },
  {
   "cell_type": "code",
   "execution_count": 8,
   "id": "d223ef21",
   "metadata": {},
   "outputs": [
    {
     "name": "stdout",
     "output_type": "stream",
     "text": [
      "The value of spam[:2] is :\n",
      " ['a', 'b']\n"
     ]
    }
   ],
   "source": [
    "print(f'The value of spam[:2] is :\\n {spam[:2]}')"
   ]
  },
  {
   "cell_type": "markdown",
   "id": "02c047fb",
   "metadata": {},
   "source": [
    "### <font color = #80000> Let's pretend bacon has the list [3.14, 'cat,' 11, 'cat,' True] for the next three questions. </font> "
   ]
  },
  {
   "cell_type": "code",
   "execution_count": 9,
   "id": "ee8f92e6",
   "metadata": {},
   "outputs": [],
   "source": [
    "bacon=[3.14,'cat',11,'cat',True]"
   ]
  },
  {
   "cell_type": "code",
   "execution_count": 10,
   "id": "cafdc372",
   "metadata": {},
   "outputs": [
    {
     "data": {
      "text/plain": [
       "[3.14, 'cat', 11, 'cat', True]"
      ]
     },
     "execution_count": 10,
     "metadata": {},
     "output_type": "execute_result"
    }
   ],
   "source": [
    "bacon"
   ]
  },
  {
   "cell_type": "markdown",
   "id": "52953482",
   "metadata": {},
   "source": [
    "### 6. What is the value of bacon.index('cat')?"
   ]
  },
  {
   "cell_type": "markdown",
   "id": "58247b5b",
   "metadata": {},
   "source": [
    "####  <font color=blue> _Answer_ </font>"
   ]
  },
  {
   "cell_type": "code",
   "execution_count": 11,
   "id": "4c026156",
   "metadata": {},
   "outputs": [
    {
     "name": "stdout",
     "output_type": "stream",
     "text": [
      "The value of bacon.index('cat') is :\n",
      " 1\n"
     ]
    }
   ],
   "source": [
    "print(f\"The value of bacon.index('cat') is :\\n {bacon.index('cat')}\")"
   ]
  },
  {
   "cell_type": "markdown",
   "id": "34daf9b6",
   "metadata": {},
   "source": [
    " The value of bacon.index('cat') is 1 (Index method returns the index of first occuerence of 'cat')"
   ]
  },
  {
   "cell_type": "markdown",
   "id": "519e5feb",
   "metadata": {},
   "source": [
    "### 7. How does bacon.append(99) change the look of the list value in bacon?"
   ]
  },
  {
   "cell_type": "markdown",
   "id": "769c47c5",
   "metadata": {},
   "source": [
    "####  <font color=blue> _Answer_ </font>"
   ]
  },
  {
   "cell_type": "markdown",
   "id": "a0a70407",
   "metadata": {},
   "source": [
    "The append method adds new elements to the end of the list"
   ]
  },
  {
   "cell_type": "code",
   "execution_count": 12,
   "id": "829e88df",
   "metadata": {},
   "outputs": [
    {
     "name": "stdout",
     "output_type": "stream",
     "text": [
      "[3.14, 'cat', 11, 'cat', True]\n",
      "[3.14, 'cat', 11, 'cat', True, 99]\n"
     ]
    }
   ],
   "source": [
    "# Example\n",
    "print(bacon)\n",
    "bacon.append(99) # Appends 99 to the end of the list\n",
    "print(bacon)"
   ]
  },
  {
   "cell_type": "markdown",
   "id": "3c385ef1",
   "metadata": {},
   "source": [
    "### 8. How does bacon.remove('cat') change the look of the list in bacon?"
   ]
  },
  {
   "cell_type": "markdown",
   "id": "1d98f831",
   "metadata": {},
   "source": [
    "####  <font color=blue> _Answer_ </font>"
   ]
  },
  {
   "cell_type": "markdown",
   "id": "35ce8a32",
   "metadata": {},
   "source": [
    "The remove method removes the first occurence of the element in the list"
   ]
  },
  {
   "cell_type": "code",
   "execution_count": 13,
   "id": "cb88a42d",
   "metadata": {},
   "outputs": [
    {
     "name": "stdout",
     "output_type": "stream",
     "text": [
      "[3.14, 'cat', 11, 'cat', True, 99]\n",
      "[3.14, 11, 'cat', True, 99]\n"
     ]
    }
   ],
   "source": [
    "print(bacon)\n",
    "bacon.remove('cat') # remove first occurance of 'cat'\n",
    "print(bacon)"
   ]
  },
  {
   "cell_type": "markdown",
   "id": "d5bfe08e",
   "metadata": {},
   "source": [
    "### 9. what are the list concatenation and list replication operations?"
   ]
  },
  {
   "cell_type": "markdown",
   "id": "499d50c7",
   "metadata": {},
   "source": [
    "####  <font color=blue> _Answer_ </font>"
   ]
  },
  {
   "cell_type": "markdown",
   "id": "42e70f8e",
   "metadata": {},
   "source": [
    "- __list concatenation__\n",
    "  - list concatention is used to join or adding two list in one list\n",
    "  - Here spam and bacon both are list now we can apply concatenation operation on top it and it will merge two list."
   ]
  },
  {
   "cell_type": "code",
   "execution_count": 14,
   "id": "4e2d06b7",
   "metadata": {},
   "outputs": [
    {
     "name": "stdout",
     "output_type": "stream",
     "text": [
      "spam:  ['a', 'b', 'c', 'd']\n",
      "bacon:  [3.14, 11, 'cat', True, 99]\n",
      "\n",
      " After Concatenation: \n",
      " ['a', 'b', 'c', 'd', 3.14, 11, 'cat', True, 99]\n"
     ]
    }
   ],
   "source": [
    "print('spam: ',spam)\n",
    "print('bacon: ',bacon)\n",
    "# concatenation of spam+bacon\n",
    "\n",
    "print('\\n After Concatenation: \\n {}'.format(spam+bacon))"
   ]
  },
  {
   "cell_type": "markdown",
   "id": "bfcf36b7",
   "metadata": {},
   "source": [
    "- __list replication__\n",
    "  - list replication is used to replicate elements in the list \n",
    "  - we can multiply by list for replication purpose."
   ]
  },
  {
   "cell_type": "code",
   "execution_count": 15,
   "id": "b7144506",
   "metadata": {},
   "outputs": [
    {
     "name": "stdout",
     "output_type": "stream",
     "text": [
      "['a', 'b', 'c', 'd']\n",
      "\n",
      " Value of spam after replication is :\n",
      " ['a', 'b', 'c', 'd', 'a', 'b', 'c', 'd', 'a', 'b', 'c', 'd', 'a', 'b', 'c', 'd']\n"
     ]
    }
   ],
   "source": [
    "print(spam)\n",
    "# replication of spam: spam*4\n",
    "print('\\n Value of spam after replication is :\\n {}'.format(spam*4))"
   ]
  },
  {
   "cell_type": "markdown",
   "id": "7a5227d9",
   "metadata": {},
   "source": [
    "### 10. What is difference between the list methods append() and insert()?"
   ]
  },
  {
   "cell_type": "markdown",
   "id": "cfc82694",
   "metadata": {},
   "source": [
    "####  <font color=blue> _Answer_ </font>"
   ]
  },
  {
   "cell_type": "markdown",
   "id": "0d7bfb2c",
   "metadata": {},
   "source": [
    "Append() | Insert ()\n",
    "- | -\n",
    " In append function we can passed element as <br> an argument is appended to the end of the list | In Insert function we can passed element and index <br>of particular postion to insert an element in the list.\n",
    "it appends without any change as a single <br>element to the end of the list | it insert desired index of the list\n",
    "list.append(element) | list.insert(element,index)\n",
    "In append only one paramenter is mandatary | In insert there are two parameter are mandatary "
   ]
  },
  {
   "cell_type": "markdown",
   "id": "5bd707d7",
   "metadata": {},
   "source": [
    "### 11. What are the two methods for removing items from a list?"
   ]
  },
  {
   "cell_type": "markdown",
   "id": "00fabacc",
   "metadata": {},
   "source": [
    "####  <font color=blue> _Answer_ </font>"
   ]
  },
  {
   "cell_type": "markdown",
   "id": "9479bdeb",
   "metadata": {},
   "source": [
    "Methods to remove items from list\n",
    "- remove method list1.remove('cat')\n",
    "- pop method list1.pop()"
   ]
  },
  {
   "cell_type": "code",
   "execution_count": 16,
   "id": "bd6d50c3",
   "metadata": {},
   "outputs": [
    {
     "name": "stdout",
     "output_type": "stream",
     "text": [
      "after apply remove function : [10, 20, 'dog']\n",
      "after apply pop function : [10, 20]\n"
     ]
    }
   ],
   "source": [
    "# for Example\n",
    "list1 = [10,20,'cat','dog']\n",
    "\n",
    "list1.remove('cat')\n",
    "print(f\"after apply remove function : {list1}\")\n",
    "\n",
    "list1.pop()\n",
    "print(f\"after apply pop function : {list1}\")"
   ]
  },
  {
   "cell_type": "markdown",
   "id": "91c1472e",
   "metadata": {},
   "source": [
    "### 12. Describe how list values and string values are identical."
   ]
  },
  {
   "cell_type": "markdown",
   "id": "ac89d33f",
   "metadata": {},
   "source": [
    "####  <font color=blue> _Answer_ </font>"
   ]
  },
  {
   "cell_type": "markdown",
   "id": "e9b51b90",
   "metadata": {},
   "source": [
    "- Both lists and strings can be passed to len() function, \n",
    "- Can have indexes and slices\n",
    "- Can be used in for loops, \n",
    "- Can be concatenated or replicated,\n",
    "- can be used with the in and not in operators."
   ]
  },
  {
   "cell_type": "markdown",
   "id": "2db6e1c9",
   "metadata": {},
   "source": [
    "### 13. What's the difference between tuples and lists?"
   ]
  },
  {
   "cell_type": "markdown",
   "id": "4a3f58f8",
   "metadata": {},
   "source": [
    "####  <font color=blue> _Answer_ </font>"
   ]
  },
  {
   "cell_type": "markdown",
   "id": "15f7db9c",
   "metadata": {},
   "source": [
    "Tuples | Lists\n",
    "- | -\n",
    "We can't change value directly because Tuples are inmutable | We can change value directly because list are mutable\n",
    "Tuples is denoted by round buckets ```( )``` | List is denoted by square buckets ```[ ]```\n",
    "We can't create empty tuple at least two or more elements<br> are allowed. | We can create empty list \n",
    "For example <br>```t1 = (2345,678)```  | For example <br>```ls = [10,3,6,'hello']```"
   ]
  },
  {
   "cell_type": "markdown",
   "id": "9c5ce604",
   "metadata": {},
   "source": [
    "### 14. How do you type a tuple value that only contains the integer 42?"
   ]
  },
  {
   "cell_type": "markdown",
   "id": "5c412050",
   "metadata": {},
   "source": [
    "####  <font color=blue> _Answer_ </font>"
   ]
  },
  {
   "cell_type": "markdown",
   "id": "b7047f8c",
   "metadata": {},
   "source": [
    "- (42,)\n",
    "- The trailing comma is mandatory, Otherwise its considered as a int by python Interpreter"
   ]
  },
  {
   "cell_type": "code",
   "execution_count": 17,
   "id": "af47e584",
   "metadata": {},
   "outputs": [
    {
     "name": "stdout",
     "output_type": "stream",
     "text": [
      "<class 'int'>\n",
      "<class 'tuple'>\n",
      "(42,)\n"
     ]
    }
   ],
   "source": [
    "#For single value it treat it as integer insted single value tuple\n",
    "tup1=(42)\n",
    "print(type(tup1))\n",
    "\n",
    "#Proper way of assigning single value to tuple\n",
    "tup1 = (42,)\n",
    "print(type(tup1))\n",
    "print(tup1)"
   ]
  },
  {
   "cell_type": "markdown",
   "id": "4eae362f",
   "metadata": {},
   "source": [
    "### 15. How do you get a list value's tuple form? How do you get a tuple value's list form?"
   ]
  },
  {
   "cell_type": "markdown",
   "id": "f66ebe90",
   "metadata": {},
   "source": [
    "####  <font color=blue> _Answer_ </font>"
   ]
  },
  {
   "cell_type": "markdown",
   "id": "6c1ae366",
   "metadata": {},
   "source": [
    "- By using type casting we change list value's tuple form and viceversa"
   ]
  },
  {
   "cell_type": "code",
   "execution_count": 18,
   "id": "4b1f82a6",
   "metadata": {},
   "outputs": [
    {
     "name": "stdout",
     "output_type": "stream",
     "text": [
      "<class 'list'>\n",
      "<class 'tuple'>\n",
      "(10, 20, 30, 40, 50)\n"
     ]
    }
   ],
   "source": [
    "#list's value in tuple form\n",
    "ls = [10,20,30,40,50]\n",
    "print(type(ls))\n",
    "tup1 = tuple(ls)\n",
    "print(type(tup1))\n",
    "print(tup1)"
   ]
  },
  {
   "cell_type": "code",
   "execution_count": 19,
   "id": "01d60621",
   "metadata": {},
   "outputs": [
    {
     "name": "stdout",
     "output_type": "stream",
     "text": [
      "<class 'tuple'>\n",
      "<class 'list'>\n",
      "[1, 2, 3, 4, 5]\n"
     ]
    }
   ],
   "source": [
    "#tuple value's list form\n",
    "tup1=( 1,2,3,4,5)\n",
    "print(type(tup1))\n",
    "list1=list(tup1)\n",
    "print(type(list1))\n",
    "print(list1)"
   ]
  },
  {
   "cell_type": "markdown",
   "id": "78855476",
   "metadata": {},
   "source": [
    "### 16. Variables that \"contain\" list values are not necessarily lists themselves. Instead, what do they contain?"
   ]
  },
  {
   "cell_type": "markdown",
   "id": "d5fe66b9",
   "metadata": {},
   "source": [
    "####  <font color=blue> _Answer_ </font>"
   ]
  },
  {
   "cell_type": "markdown",
   "id": "5673cd41",
   "metadata": {},
   "source": [
    "- Variables will contain references to the list values.\n",
    "- But in case of string and integer values variable contain the string and integer value"
   ]
  },
  {
   "cell_type": "code",
   "execution_count": 20,
   "id": "728af081",
   "metadata": {},
   "outputs": [
    {
     "name": "stdout",
     "output_type": "stream",
     "text": [
      "list type <class 'list'> list address : 1283244188224\n",
      "but list values type is different : <class 'str'> and address 1283240562032\n",
      "but list values type is different : <class 'int'> and address 1283164039760\n",
      "but list values type is different : <class 'float'> and address 1283164039760\n"
     ]
    }
   ],
   "source": [
    "ls1 = [10,\"hello\",45.0,89]\n",
    "print(f\"list type {type(ls1)} list address : {id(ls1)}\")\n",
    "print(f\"but list values type is different : {type(ls1[1])} and address {id(ls1[1])}\")\n",
    "print(f\"but list values type is different : {type(ls1[0])} and address {id(ls1[0])}\")\n",
    "print(f\"but list values type is different : {type(ls1[2])} and address {id(ls1[0])}\")"
   ]
  },
  {
   "cell_type": "markdown",
   "id": "65a9a781",
   "metadata": {},
   "source": [
    "### 17. How do you distinguish between copy.copy() and copy.deepcopy()?"
   ]
  },
  {
   "cell_type": "markdown",
   "id": "afa874d5",
   "metadata": {},
   "source": [
    "####  <font color=blue> _Answer_ </font>"
   ]
  },
  {
   "cell_type": "markdown",
   "id": "1e64ea0c",
   "metadata": {},
   "source": [
    "copy.copy() | copy.deepcopy()\n",
    "- | -\n",
    "Create reference to the original object. | Creates new object and does real copying of original object to new one \n",
    "It store the refrence of object to the original memory adress | It only stores the copy of the object's value.\n",
    "It reflects the change made in copied object to original object | It does not reflect any change to the new object\n",
    "Both copy and original object point to the same memory location | Copied and original object does not point to same memory location"
   ]
  },
  {
   "cell_type": "code",
   "execution_count": 21,
   "id": "ccc046c8",
   "metadata": {},
   "outputs": [
    {
     "name": "stdout",
     "output_type": "stream",
     "text": [
      "Original list: [1, 2, 3, 4] \n",
      "Copy of list: [1, 2, 3, 4]\n",
      "Original list after update in copy: [1, 2, 3, 4] \n",
      "Copy after update: [1, 2, 100, 4]\n",
      "\n",
      "Original Nested list: [[1, 2, 3, 4], ['A', 'B', 'C']] \n",
      "Copy of Nested list: [[1, 2, 3, 4], ['A', 'B', 'C']]\n",
      "Original Nested list after update in copy: [[1, 2, 3, 4], ['Hi', 'B', 'C']] \n",
      " Copy of Nested list after update: [[1, 2, 3, 4], ['Hi', 'B', 'C']]\n"
     ]
    }
   ],
   "source": [
    "import copy\n",
    "# For normal list shallow copy and deep copy work same\n",
    "\n",
    "#Shallow copy\n",
    "list1= [1,2,3,4]\n",
    "list2= copy.copy(list1)\n",
    "print(\"Original list: {} \\nCopy of list: {}\" .format(list1,list2))\n",
    "\n",
    "#Change in copy\n",
    "list2[2]=100\n",
    "print(\"Original list after update in copy: {} \\nCopy after update: {}\".format(list1,list2))\n",
    "\n",
    "#For nested list any change made in object are reflect in original list\n",
    "#Shallow copy of nested list\n",
    "list1= [[1,2,3,4],['A','B','C']]\n",
    "list2= copy.copy(list1)\n",
    "print(\"\\nOriginal Nested list: {} \\nCopy of Nested list: {}\" .format(list1,list2))\n",
    "\n",
    "#Change in copy\n",
    "list2[1][0]='Hi'\n",
    "print(\"Original Nested list after update in copy: {} \\n Copy of Nested list after update: {}\".format(list1,list2))\n"
   ]
  },
  {
   "cell_type": "code",
   "execution_count": 22,
   "id": "48e3f977",
   "metadata": {},
   "outputs": [
    {
     "name": "stdout",
     "output_type": "stream",
     "text": [
      "Original list: [1, 2, 3, 4] \n",
      "Copy of list: [1, 2, 3, 4]\n",
      "Original list after update in copy: [1, 2, 3, 4] \n",
      "Copy after update: [1, 2, 100, 4]\n",
      "\n",
      "Original Nested list: [[1, 2, 3, 4], ['A', 'B', 'C']] \n",
      " DeepCopy of Nested list: [[1, 2, 3, 4], ['A', 'B', 'C']]\n",
      "Original Nested list after update in copy: [[1, 2, 3, 4], ['A', 'B', 'C']] \n",
      " DeepCopy of Nested list after update: [[1, 2, 3, 4], ['Hi', 'B', 'C']]\n"
     ]
    }
   ],
   "source": [
    "import copy\n",
    "# For normal list shallow copy and deep copy work same\n",
    "\n",
    "#Deep copy\n",
    "list1= [1,2,3,4]\n",
    "list2= copy.deepcopy(list1)\n",
    "print(\"Original list: {} \\nCopy of list: {}\" .format(list1,list2))\n",
    "\n",
    "#Change in deepcopy\n",
    "list2[2]=100\n",
    "print(\"Original list after update in copy: {} \\nCopy after update: {}\".format(list1,list2))\n",
    "\n",
    "#For nested list, It does not reflect any change to the original list\n",
    "#Deep copy of nested list\n",
    "list1= [[1,2,3,4],['A','B','C']]\n",
    "list2= copy.deepcopy(list1)\n",
    "print(\"\\nOriginal Nested list: {} \\n DeepCopy of Nested list: {}\" .format(list1,list2))\n",
    "\n",
    "#Change in Deepcopy\n",
    "list2[1][0]='Hi'\n",
    "print(\"Original Nested list after update in copy: {} \\n DeepCopy of Nested list after update: {}\".format(list1,list2))\n"
   ]
  }
 ],
 "metadata": {
  "kernelspec": {
   "display_name": "Python 3 (ipykernel)",
   "language": "python",
   "name": "python3"
  },
  "language_info": {
   "codemirror_mode": {
    "name": "ipython",
    "version": 3
   },
   "file_extension": ".py",
   "mimetype": "text/x-python",
   "name": "python",
   "nbconvert_exporter": "python",
   "pygments_lexer": "ipython3",
   "version": "3.9.13"
  }
 },
 "nbformat": 4,
 "nbformat_minor": 5
}
