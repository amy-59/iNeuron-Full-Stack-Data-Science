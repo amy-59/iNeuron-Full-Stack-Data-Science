{
 "cells": [
  {
   "cell_type": "markdown",
   "id": "9c066a2a",
   "metadata": {},
   "source": [
    "<h1 align = \"center\"> Try and Exception </h1>"
   ]
  },
  {
   "cell_type": "markdown",
   "id": "fa1c8837",
   "metadata": {},
   "source": [
    "### 1. What is the role of try and exception block?"
   ]
  },
  {
   "cell_type": "markdown",
   "id": "c496f66f",
   "metadata": {},
   "source": [
    "####  <font color=blue> _Answer_ </font>"
   ]
  },
  {
   "cell_type": "markdown",
   "id": "92a9fbb2",
   "metadata": {},
   "source": [
    "- The try and except blocks in Python are used for handling exceptions, which are unexpected or erroneous events that can occur during the execution of a program. The purpose of using a try and except block is to gracefully handle these exceptions, preventing the program from crashing and allowing you to handle errors in a controlled manner.\n",
    "  1. __Try Block__: \n",
    "    - The code that might potentially raise an exception is placed within the try block. This is the portion of code where you anticipate that an exception might occur.\n",
    "\n",
    "  2. __Except Block__: \n",
    "    - The except block follows the try block. If an exception occurs within the try block, the program flow is transferred to the corresponding except block. The except block contains code that defines how to handle the specific exception that was raised. You can have multiple except blocks to handle different types of exception"
   ]
  },
  {
   "cell_type": "markdown",
   "id": "f92ac9f4",
   "metadata": {},
   "source": [
    "### 2. What is the syntax for a basic try-except block?\n"
   ]
  },
  {
   "cell_type": "markdown",
   "id": "15d83198",
   "metadata": {},
   "source": [
    "####  <font color=blue> _Answer_ </font>"
   ]
  },
  {
   "cell_type": "markdown",
   "id": "b3322518",
   "metadata": {},
   "source": [
    "> <code>try</code>:\n",
    "            <br>  # Code that might raise an exception\n",
    "            <br>  # ...<br>\n",
    "            \n",
    "> <code>except</code> ExceptionType:\n",
    "    <br># Code to handle the exception of type ExceptionType\n",
    " <br># ...\n"
   ]
  },
  {
   "cell_type": "markdown",
   "id": "38b93342",
   "metadata": {},
   "source": [
    "### 3. What happens if an exception occurs inside a try block and there is no matching except block?"
   ]
  },
  {
   "cell_type": "markdown",
   "id": "e15368f4",
   "metadata": {},
   "source": [
    "####  <font color=blue> _Answer_ </font>"
   ]
  },
  {
   "cell_type": "markdown",
   "id": "cd1fe019",
   "metadata": {},
   "source": [
    "- If an exception occurs inside a try block and there is no matching except block to handle that exception, the program will terminate with an unhandled exception error. \n",
    "- The Python interpreter will display an error message that includes the exception type, a description of the error, and a traceback showing where the exception occurred in the code."
   ]
  },
  {
   "cell_type": "code",
   "execution_count": 10,
   "id": "6f595776",
   "metadata": {},
   "outputs": [
    {
     "ename": "ValueError",
     "evalue": "invalid literal for int() with base 10: 'not_an_integer'",
     "output_type": "error",
     "traceback": [
      "\u001b[1;31m---------------------------------------------------------------------------\u001b[0m",
      "\u001b[1;31mValueError\u001b[0m                                Traceback (most recent call last)",
      "\u001b[1;32m~\\AppData\\Local\\Temp\\ipykernel_19952\\3972971721.py\u001b[0m in \u001b[0;36m<module>\u001b[1;34m\u001b[0m\n\u001b[0;32m      1\u001b[0m \u001b[1;31m#Example\u001b[0m\u001b[1;33m\u001b[0m\u001b[1;33m\u001b[0m\u001b[0m\n\u001b[0;32m      2\u001b[0m \u001b[1;32mtry\u001b[0m\u001b[1;33m:\u001b[0m\u001b[1;33m\u001b[0m\u001b[1;33m\u001b[0m\u001b[0m\n\u001b[1;32m----> 3\u001b[1;33m     \u001b[0mnum\u001b[0m \u001b[1;33m=\u001b[0m \u001b[0mint\u001b[0m\u001b[1;33m(\u001b[0m\u001b[1;34m\"not_an_integer\"\u001b[0m\u001b[1;33m)\u001b[0m  \u001b[1;31m# This will raise a ValueError\u001b[0m\u001b[1;33m\u001b[0m\u001b[1;33m\u001b[0m\u001b[0m\n\u001b[0m\u001b[0;32m      4\u001b[0m \u001b[1;32mexcept\u001b[0m \u001b[0mZeroDivisionError\u001b[0m\u001b[1;33m:\u001b[0m\u001b[1;33m\u001b[0m\u001b[1;33m\u001b[0m\u001b[0m\n\u001b[0;32m      5\u001b[0m     \u001b[1;31m# This except block doesn't match the exception type\u001b[0m\u001b[1;33m\u001b[0m\u001b[1;33m\u001b[0m\u001b[0m\n",
      "\u001b[1;31mValueError\u001b[0m: invalid literal for int() with base 10: 'not_an_integer'"
     ]
    }
   ],
   "source": [
    "#Example\n",
    "try:\n",
    "    num = int(\"not_an_integer\")  # This will raise a ValueError\n",
    "except ZeroDivisionError:\n",
    "    # This except block doesn't match the exception type\n",
    "    print(\"ZeroDivisionError occurred.\")\n"
   ]
  },
  {
   "cell_type": "markdown",
   "id": "95c6936b",
   "metadata": {},
   "source": [
    "- In above Example we attempt to convert the string \"not_an_integer\" to an integer, which raises a __ValueError__ because it's not a valid integer. \n",
    "- However, there's no except block that matches a __ValueError__ in this code. As a result, when the exception occurs, the program will terminate, and you'll see an error message."
   ]
  },
  {
   "cell_type": "markdown",
   "id": "1285037c",
   "metadata": {},
   "source": [
    "- To prevent this from happening, it's a good practice to include a catch-all except block at the end of your try-except structure, like this:"
   ]
  },
  {
   "cell_type": "code",
   "execution_count": 11,
   "id": "81d26884",
   "metadata": {},
   "outputs": [
    {
     "name": "stdout",
     "output_type": "stream",
     "text": [
      "An unexpected error occurred: invalid literal for int() with base 10: 'not_an_integer'\n"
     ]
    }
   ],
   "source": [
    "try:\n",
    "    num = int(\"not_an_integer\")  # This will raise a ValueError\n",
    "except ZeroDivisionError:\n",
    "    print(\"ZeroDivisionError occurred.\")\n",
    "except Exception as e:\n",
    "    print(\"An unexpected error occurred:\", e)\n"
   ]
  },
  {
   "cell_type": "markdown",
   "id": "2a0cd426",
   "metadata": {},
   "source": [
    "### 4. What is the difference between using a bare except block and specifying a specific exception type?\n"
   ]
  },
  {
   "cell_type": "markdown",
   "id": "49fba9e4",
   "metadata": {},
   "source": [
    "####  <font color=blue> _Answer_ </font>"
   ]
  },
  {
   "cell_type": "markdown",
   "id": "98208975",
   "metadata": {},
   "source": [
    " __Bare except Block__:\n",
    " - A bare except block catches all types of exceptions that inherit from the base Exception class.\n",
    " - It's also known as a \"catch-all\" block because it will handle any exception that occurs within the try block. \n",
    " - While using a bare except block can prevent the program from crashing due to unhandled exceptions, it's generally considered a bad practice for a few reasons:\n",
    "    - __Lack of Specificity__:\n",
    "      - Since a bare except block catches all exceptions, it can make it difficult to identify and diagnose the specific type of error that occurred. \n",
    "      - This makes debugging and troubleshooting more challenging.\n",
    "    - __Unintended Consequences__: \n",
    "      - Catching all exceptions indiscriminately might lead to unexpected behavior or mask errors that you actually want to know about.\n",
    "      - It can also make your code less predictable, as different types of exceptions might be handled in the same way.\n",
    "    - __Maintenance Issues__: \n",
    "      - As your codebase grows, it becomes harder to maintain and update code that uses bare except blocks.\n",
    "      - It's harder to understand which exceptions are being handled and what actions are taken in response. "
   ]
  },
  {
   "cell_type": "code",
   "execution_count": 14,
   "id": "ce133081",
   "metadata": {},
   "outputs": [
    {
     "name": "stdout",
     "output_type": "stream",
     "text": [
      "An error occurred\n"
     ]
    }
   ],
   "source": [
    "#Example_1\n",
    "try:\n",
    "    result = 10 / 0\n",
    "except:\n",
    "    print(\"An error occurred\")\n"
   ]
  },
  {
   "cell_type": "markdown",
   "id": "9f531ddf",
   "metadata": {},
   "source": [
    "2. __Specific Exception Type__:\n",
    " - When you specify a specific exception type in the except block, you are providing targeted error handling for that particular type of exception. \n",
    " - This approach is much more preferable for several reasons:\n",
    "    - __Clarity and Readability__:\n",
    "        - Using specific exception types makes your code more readable and understandable.\n",
    "        - It clearly communicates what types of errors your code is designed to handle.\n",
    "\n",
    "    - __Focused Error Handling__:\n",
    "        - You can provide different error-handling strategies for different types of exceptions. \n",
    "        - This allows you to tailor your response to the nature of the error.\n",
    "\n",
    "    - __Debugging and Maintenance__: \n",
    "        - With specific exception handling, it's easier to locate and diagnose errors when they occur.\n",
    "        - You can also maintain and update your code more effectively, knowing exactly how different exceptions are being handled."
   ]
  },
  {
   "cell_type": "code",
   "execution_count": 13,
   "id": "43e04a85",
   "metadata": {},
   "outputs": [
    {
     "name": "stdout",
     "output_type": "stream",
     "text": [
      "Cannot divide by zero\n"
     ]
    }
   ],
   "source": [
    "#Example_2\n",
    "try:\n",
    "    result = 10 / 0\n",
    "except ZeroDivisionError:\n",
    "    print(\"Cannot divide by zero\")\n"
   ]
  },
  {
   "cell_type": "markdown",
   "id": "fe4548c2",
   "metadata": {},
   "source": [
    "### 5. Can you have nested try-except blocks in Python? If yes, then give an example"
   ]
  },
  {
   "cell_type": "markdown",
   "id": "6e76df08",
   "metadata": {},
   "source": [
    "####  <font color=blue> _Answer_ </font>"
   ]
  },
  {
   "cell_type": "markdown",
   "id": "643a2cc4",
   "metadata": {},
   "source": [
    "Yes, We have nested try-except blocks in Python."
   ]
  },
  {
   "cell_type": "code",
   "execution_count": 12,
   "id": "0284444e",
   "metadata": {},
   "outputs": [
    {
     "name": "stdout",
     "output_type": "stream",
     "text": [
      "Enter an outer number: 5\n",
      "Enter an inner number: 0\n",
      "Inner number cannot be zero.\n"
     ]
    }
   ],
   "source": [
    "# Example_1:\n",
    "try:\n",
    "    outer_number = int(input(\"Enter an outer number: \"))\n",
    "    try:\n",
    "        inner_number = int(input(\"Enter an inner number: \"))\n",
    "        result = outer_number / inner_number\n",
    "        print(\"Result:\", result)\n",
    "    except ZeroDivisionError:\n",
    "        print(\"Inner number cannot be zero.\")\n",
    "    except ValueError:\n",
    "        print(\"Invalid input for inner number.\")\n",
    "except ValueError:\n",
    "    print(\"Invalid input for outer number.\")\n"
   ]
  },
  {
   "cell_type": "code",
   "execution_count": 10,
   "id": "71633ccf",
   "metadata": {},
   "outputs": [
    {
     "name": "stdout",
     "output_type": "stream",
     "text": [
      "\n",
      "Error: cannot read from the file\n"
     ]
    }
   ],
   "source": [
    "#Example_2\n",
    "try:\n",
    "    with open('sample.txt', 'r') as reader:\n",
    "        for line in reader.readlines():\n",
    "            try:\n",
    "                print(int(line))\n",
    "            except:\n",
    "                print('\\nLine error')\n",
    "                quit()\n",
    "\n",
    "except:\n",
    "    print('\\nError: cannot read from the file')"
   ]
  },
  {
   "cell_type": "markdown",
   "id": "cccc14cb",
   "metadata": {},
   "source": [
    "### 6. Can we use multiple exception blocks, if yes then give an example.\n"
   ]
  },
  {
   "cell_type": "markdown",
   "id": "d58ba672",
   "metadata": {},
   "source": [
    "####  <font color=blue> _Answer_ </font>"
   ]
  },
  {
   "cell_type": "markdown",
   "id": "26523e77",
   "metadata": {},
   "source": [
    "- We can use multiple exception blocks to handle different types of exceptions separately.\n",
    "- Each exception block will catch a specific type of exception and execute the corresponding code block.\n",
    "- Here's an example:"
   ]
  },
  {
   "cell_type": "code",
   "execution_count": 8,
   "id": "7309f4ee",
   "metadata": {},
   "outputs": [
    {
     "name": "stdout",
     "output_type": "stream",
     "text": [
      "Enter a number: 10\n",
      "Enter an index to access a fruit: 2\n",
      "Enter the name of a file: Mydata.txt\n",
      "Error: The specified file does not exist.\n"
     ]
    }
   ],
   "source": [
    "try:\n",
    "    #Dividing 10 by a number\n",
    "    num = int(input(\"Enter a number: \"))\n",
    "    \n",
    "    result = 10 / num\n",
    "    \n",
    "    #Accessing fruits by indexing\n",
    "    fruits = [\"apple\", \"banana\", \"cherry\"]\n",
    "    index = int(input(\"Enter an index to access a fruit: \"))\n",
    "    \n",
    "    fruit = fruits[index]\n",
    "    \n",
    "    #Reading File \n",
    "    file_name = input(\"Enter the name of a file: \")\n",
    "    with open(file_name, 'r') as file:\n",
    "        content = file.read()\n",
    "        \n",
    "    #Result\n",
    "    print(\"Result of division:\", result)\n",
    "    print(\"Selected fruit:\", fruit)\n",
    "    print(\"File content:\", content)\n",
    "    \n",
    "except ZeroDivisionError:\n",
    "    print(\"Error: Division by zero is not allowed.\")\n",
    "except ValueError:\n",
    "    print(\"Error: Invalid input. Please enter a valid number or index.\")\n",
    "except IndexError:\n",
    "    print(\"Error: Index is out of range for the list.\")\n",
    "except FileNotFoundError:\n",
    "    print(\"Error: The specified file does not exist.\")\n",
    "except Exception as e:\n",
    "    print(\"An unexpected error occurred:\", e)\n"
   ]
  },
  {
   "cell_type": "markdown",
   "id": "919ad99d",
   "metadata": {},
   "source": [
    "### 7. Write the reason due to which following errors are raised:\n",
    "#### a. EOFError<br>b. FloatingPointError<br>c. IndexError<br>d. MemoryError<br>e. OverflowError<br>f. TabError<br>g. ValueError<br>"
   ]
  },
  {
   "cell_type": "markdown",
   "id": "21bde323",
   "metadata": {},
   "source": [
    "####  <font color=blue> _Answer_ </font>"
   ]
  },
  {
   "cell_type": "markdown",
   "id": "5787d850",
   "metadata": {},
   "source": [
    "1. __EOFError__:\n",
    " - This error stands for \"End of File Error\".\n",
    " - It occurs when an input operation tries to read beyond the end of a file (when the file is empty or has been fully read) or when the input stream is closed prematurely.\n",
    "\n",
    "\n",
    "2. __FloatingPointError__: \n",
    " - This error occurs when a floating-point arithmetic operation fails to produce a valid result. \n",
    " - For example, it can happen when dividing by zero in floating-point arithmetic or performing other mathematical operations that result in an undefined or infinite value.\n",
    " \n",
    "\n",
    "3. __IndexError__: \n",
    " - This error occurs when you try to access an index in a sequence (like a list, tuple, or string) that is out of bounds or doesn't exist.\n",
    " - In other words, you're trying to access an element at an index that is not valid for the given sequence.\n",
    "\n",
    "\n",
    "4. __MemoryError__: \n",
    " - This error occurs when the program runs out of available memory while trying to allocate more memory for an object or operation. \n",
    " - It indicates that the system cannot provide the requested amount of memory.\n",
    "\n",
    "\n",
    "5. __OverflowError__: \n",
    " - This error occurs in situations where an arithmetic operation results in a value that is too large to be represented within the available data type.\n",
    " - For example, if you try to represent an integer greater than the maximum value that the data type can hold.\n",
    " \n",
    "\n",
    "6. __TabError__: \n",
    " - This error is related to the indentation of code. \n",
    " - It occurs when inconsistent or incorrect use of tabs and spaces is detected within the code, particularly when mixing tabs and spaces for indentation.\n",
    " \n",
    "\n",
    "7. __ValueError__: \n",
    " - This error occurs when a function receives an argument of the correct data type but with an invalid value. \n",
    " - It indicates that the function cannot perform the operation with the provided value."
   ]
  },
  {
   "cell_type": "markdown",
   "id": "ad4b27f6",
   "metadata": {},
   "source": [
    "### 8. Write code for the following given scenario and add try-exception block to it.\n",
    "#### a. Program to divide two numbers<br>b. Program to convert a string to an integer<br>c. Program to access an element in a list<br>d. Program to handle a specific exception<br>e. Program to handle any exception"
   ]
  },
  {
   "cell_type": "markdown",
   "id": "3664d5e4",
   "metadata": {},
   "source": [
    "####  <font color=blue> _Answer_ </font>"
   ]
  },
  {
   "cell_type": "markdown",
   "id": "c24eb7fc",
   "metadata": {},
   "source": [
    "_a. Program to divide two numbers_"
   ]
  },
  {
   "cell_type": "code",
   "execution_count": 17,
   "id": "e28969a8",
   "metadata": {},
   "outputs": [
    {
     "name": "stdout",
     "output_type": "stream",
     "text": [
      "Enter the numerator: Amy\n",
      "Invalid input. Please enter valid numeric values.\n"
     ]
    }
   ],
   "source": [
    "try:\n",
    "    numerator = float(input(\"Enter the numerator: \"))\n",
    "    denominator = float(input(\"Enter the denominator: \"))\n",
    "    result = numerator / denominator\n",
    "    print(\"Result:\", result)\n",
    "except ZeroDivisionError:\n",
    "    print(\"Cannot divide by zero.\")\n",
    "except ValueError:\n",
    "    print(\"Invalid input. Please enter valid numeric values.\")\n"
   ]
  },
  {
   "cell_type": "markdown",
   "id": "59899f7a",
   "metadata": {},
   "source": [
    "_b. Program to convert a string to an integer_"
   ]
  },
  {
   "cell_type": "code",
   "execution_count": 19,
   "id": "0f07ae1e",
   "metadata": {},
   "outputs": [
    {
     "name": "stdout",
     "output_type": "stream",
     "text": [
      "Enter a number: 555\n",
      "Converted integer: 555\n"
     ]
    }
   ],
   "source": [
    "try:\n",
    "    input_str = input(\"Enter a number: \")\n",
    "    number = int(input_str)\n",
    "    print(\"Converted integer:\", number)\n",
    "except ValueError:\n",
    "    print(\"Invalid input. Please enter a valid integer.\")\n"
   ]
  },
  {
   "cell_type": "markdown",
   "id": "5bc44f25",
   "metadata": {},
   "source": [
    "_c. Program to access an element in a list_"
   ]
  },
  {
   "cell_type": "code",
   "execution_count": 3,
   "id": "6c463757",
   "metadata": {},
   "outputs": [
    {
     "name": "stdout",
     "output_type": "stream",
     "text": [
      "Enter the index to access: 3\n",
      "Element at index 3 is: Chanyeol\n"
     ]
    }
   ],
   "source": [
    "try:\n",
    "    my_list = [\"Sehun\",\"Lay\",\"Chen\",\"Chanyeol\",\"Kyungsoo\",\"Suho\",\"Baekhyun\",\"Xiumin\",\"Kai\"]\n",
    "    index = int(input(\"Enter the index to access: \"))\n",
    "    \n",
    "    element = my_list[index]\n",
    "    \n",
    "    print(\"Element at index\", index, \"is:\", element)\n",
    "except IndexError:\n",
    "    print(\"Error: Index is out of range.\")\n",
    "except ValueError:\n",
    "    print(\"Error: Invalid input. Please enter a valid index.\")\n",
    "except Exception as e:\n",
    "    print(\"An unexpected error occurred:\", e)\n"
   ]
  },
  {
   "cell_type": "markdown",
   "id": "afa696cb",
   "metadata": {},
   "source": [
    "_d. Program to handle a specific exception_"
   ]
  },
  {
   "cell_type": "code",
   "execution_count": 5,
   "id": "9eeaca85",
   "metadata": {},
   "outputs": [
    {
     "name": "stdout",
     "output_type": "stream",
     "text": [
      "Enter the name of the file: Mydata.txt\n",
      "Error: The specified file does not exist.\n"
     ]
    }
   ],
   "source": [
    "try:\n",
    "    file_name = input(\"Enter the name of the file: \")\n",
    "    \n",
    "    with open(file_name, 'r') as file:\n",
    "        content = file.read()\n",
    "    \n",
    "    print(\"File content:\", content)\n",
    "except FileNotFoundError:\n",
    "    print(\"Error: The specified file does not exist.\")\n",
    "except Exception as e:\n",
    "    print(\"An unexpected error occurred:\", e)\n"
   ]
  },
  {
   "cell_type": "markdown",
   "id": "750de6d9",
   "metadata": {},
   "source": [
    "_e. Program to handle any exception_"
   ]
  },
  {
   "cell_type": "code",
   "execution_count": 6,
   "id": "a61c76c0",
   "metadata": {},
   "outputs": [
    {
     "name": "stdout",
     "output_type": "stream",
     "text": [
      "Enter the first number: 10\n",
      "Enter the second number: 0\n",
      "An unexpected error occurred: float division by zero\n"
     ]
    }
   ],
   "source": [
    "try:\n",
    "    # Code that may raise an exception\n",
    "    num1 = float(input(\"Enter the first number: \"))\n",
    "    num2 = float(input(\"Enter the second number: \"))\n",
    "    \n",
    "    result = num1 / num2\n",
    "    \n",
    "    print(\"Result of division:\", result)\n",
    "except Exception as e:\n",
    "    # Handling any exception\n",
    "    print(\"An unexpected error occurred:\", e)\n"
   ]
  },
  {
   "cell_type": "code",
   "execution_count": null,
   "id": "0fa973a4",
   "metadata": {},
   "outputs": [],
   "source": []
  }
 ],
 "metadata": {
  "kernelspec": {
   "display_name": "Python 3 (ipykernel)",
   "language": "python",
   "name": "python3"
  },
  "language_info": {
   "codemirror_mode": {
    "name": "ipython",
    "version": 3
   },
   "file_extension": ".py",
   "mimetype": "text/x-python",
   "name": "python",
   "nbconvert_exporter": "python",
   "pygments_lexer": "ipython3",
   "version": "3.9.13"
  }
 },
 "nbformat": 4,
 "nbformat_minor": 5
}
