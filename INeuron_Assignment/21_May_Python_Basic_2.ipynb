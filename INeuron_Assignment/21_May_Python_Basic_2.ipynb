{
 "cells": [
  {
   "cell_type": "markdown",
   "id": "b283737d",
   "metadata": {},
   "source": [
    "<h1 align = 'center'> Python Basic - 2</h3>"
   ]
  },
  {
   "cell_type": "markdown",
   "id": "3052cf69",
   "metadata": {},
   "source": [
    "### 1. Create two int type variables, apply addition, subtraction, division and multiplications and store the results in variables. Then print the data in the following format by calling the variables:\n",
    "#### First variable is __ & second variable is __. <br> Addition: __ + __ = __ <br> Subtraction: __ - __ = __ <br> Multiplication: __ * __ = __ <br> Division: __ / __ = __"
   ]
  },
  {
   "cell_type": "markdown",
   "id": "1fab5903",
   "metadata": {},
   "source": [
    "####  <font color=blue> _Answer_ </font>"
   ]
  },
  {
   "cell_type": "code",
   "execution_count": 3,
   "id": "ae79666d",
   "metadata": {},
   "outputs": [
    {
     "name": "stdout",
     "output_type": "stream",
     "text": [
      "Enter 1st number: 80\n",
      "Enter 1st number: 4\n",
      "First variable is 80 & second variable is 4.\n",
      "Addition: 80 + 4 = 84\n",
      "Subtraction: 80 - 4 = 76\n",
      "Multiplication: 80 * 4 = 320\n",
      "Division: 80 / 4 = 20.0\n"
     ]
    }
   ],
   "source": [
    "num1=int(input(\"Enter 1st number: \"))\n",
    "num2=int(input(\"Enter 1st number: \"))\n",
    "\n",
    "#Basic Operations\n",
    "addition = num1 + num2\n",
    "subtraction = num1 - num2\n",
    "multiplication = num1 * num2\n",
    "division = num1 / num2\n",
    "print(f\"First variable is {num1} & second variable is {num2}.\")\n",
    "print(f\"Addition: {num1} + {num2} = {addition}\")\n",
    "print(f\"Subtraction: {num1} - {num2} = {subtraction}\")\n",
    "print(f\"Multiplication: {num1} * {num2} = {multiplication}\")\n",
    "print(f\"Division: {num1} / {num2} = {division}\")\n"
   ]
  },
  {
   "cell_type": "markdown",
   "id": "13ad4076",
   "metadata": {},
   "source": [
    "### 2. What is the difference between the following operators:\n",
    "#### (i) ‘/’ & ‘//’ <br> (ii) ‘**’ & ‘^’\n"
   ]
  },
  {
   "cell_type": "markdown",
   "id": "890291db",
   "metadata": {},
   "source": [
    "####  <font color=blue> _Answer_ </font>"
   ]
  },
  {
   "cell_type": "markdown",
   "id": "32822496",
   "metadata": {},
   "source": [
    "1.  \"/\" & \"//\"\n",
    " - \"/\" is the __division__ operator in Python. \n",
    " - It performs normal division and returns a floating-point result.\n",
    " - \"//\" is the __floor division__ operator in Python. \n",
    " - It performs division and rounds the result down to the nearest whole number, discarding the decimal part. It returns an integer result."
   ]
  },
  {
   "cell_type": "code",
   "execution_count": 4,
   "id": "df9a5bed",
   "metadata": {},
   "outputs": [
    {
     "name": "stdout",
     "output_type": "stream",
     "text": [
      "Result of 45 / 2 is : 22.5\n",
      "Result of 45 // 2 is : 22\n"
     ]
    }
   ],
   "source": [
    "result = 45 / 2\n",
    "print(\"Result of 45 / 2 is :\",result)\n",
    "\n",
    "result = 45 // 2\n",
    "print(\"Result of 45 // 2 is :\",result)\n"
   ]
  },
  {
   "cell_type": "markdown",
   "id": "68c19973",
   "metadata": {},
   "source": [
    "2. \"**\" & \"^\"\n",
    "  - \"**\" is the exponentiation operator in Python. It raises the left operand to the power of the right operand.\n",
    "  - is not an exponentiation operator in Python. Instead, it is the bitwise XOR operator, used for performing bitwise XOR operation between two operands."
   ]
  },
  {
   "cell_type": "code",
   "execution_count": 13,
   "id": "73cba228",
   "metadata": {},
   "outputs": [
    {
     "name": "stdout",
     "output_type": "stream",
     "text": [
      "Result of 5 ** 3 is  8\n",
      "Result of 5 ^ 3 is  6\n"
     ]
    }
   ],
   "source": [
    "result = 2 ** 3\n",
    "print(\"Result of 5 ** 3 is \",result)  \n",
    "\n",
    "result = 5 ^ 3 # in binary 5: 0101 and 3:011\n",
    "print(\"Result of 5 ^ 3 is \",result) #        0101 \n",
    "                                    #    XOR 0011 \n",
    "                                    # -------------\n",
    "                                    #   ans: 0110 (Decimal:6)\n"
   ]
  },
  {
   "cell_type": "markdown",
   "id": "d5f6de33",
   "metadata": {},
   "source": [
    "### 3. List the logical operators.\n"
   ]
  },
  {
   "cell_type": "markdown",
   "id": "f8ed5008",
   "metadata": {},
   "source": [
    "####  <font color=blue> _Answer_ </font>"
   ]
  },
  {
   "cell_type": "markdown",
   "id": "790c6612",
   "metadata": {},
   "source": [
    "__Logical Operators:__\n",
    "- AND (and): The <code>and</code>operator returns True if both operands are true; otherwise, it returns False.\n",
    "- OR (or): The <code>or</code> operator returns True if at least one of the operands is true; if both operands are false, it returns False.\n",
    "- NOT (not): The <code>not</code>operator is a unary operator that negates the boolean value of its operand. If the operand is true, <code>not</code> returns False, and if the operand is false,<code>not</code>returns True.\n"
   ]
  },
  {
   "cell_type": "markdown",
   "id": "873bb848",
   "metadata": {},
   "source": [
    "### 4. Explain right shift operator and left shift operator with examples.\n",
    "\n"
   ]
  },
  {
   "cell_type": "markdown",
   "id": "fc4911b2",
   "metadata": {},
   "source": [
    "####  <font color=blue> _Answer_ </font>"
   ]
  },
  {
   "cell_type": "markdown",
   "id": "5648f583",
   "metadata": {},
   "source": [
    "- Right shift operator and Left shift operator called as bit wise operator\n",
    "- They are used to shift the binary representation of integers to the right or left, respectively. These operators can be useful for certain low-level operations and bit manipulation.\n",
    "\n",
    "__1. Right Shift Operator (>>):__\n",
    " - The right shift operator shifts the bits of a binary number to the right by a specified number of positions. \n",
    " - It essentially performs a division by 2 for each shift to the right. \n",
    " - The rightmost bits are dropped, and the leftmost bits are filled with zeros."
   ]
  },
  {
   "cell_type": "code",
   "execution_count": 5,
   "id": "8b7b2da6",
   "metadata": {},
   "outputs": [
    {
     "name": "stdout",
     "output_type": "stream",
     "text": [
      "Right shift by 2: 2\n"
     ]
    }
   ],
   "source": [
    "# Right shift operator\n",
    "\n",
    "num = 10  # Binary representation: 01010\n",
    "# Shift right by 2 positions\n",
    "r_shift = num >> 2  # Binary representation after shift: 00010 (Decimal: 2)\n",
    "print(\"Right shift by 2:\",r_shift)  "
   ]
  },
  {
   "cell_type": "markdown",
   "id": "a7c06e7d",
   "metadata": {},
   "source": [
    "__2. Left Shift Operator (<<):__\n",
    " - The left shift operator shifts the bits of a binary number to the left by a specified number of positions.\n",
    " - It effectively performs a multiplication by 2 for each shift to the left. \n",
    " - Zeros are filled in on the right side after the shift."
   ]
  },
  {
   "cell_type": "code",
   "execution_count": 9,
   "id": "bb0bd713",
   "metadata": {},
   "outputs": [
    {
     "name": "stdout",
     "output_type": "stream",
     "text": [
      "Left Shift by 4: 256\n"
     ]
    }
   ],
   "source": [
    "# Left shift operator\n",
    "num = 16  # Binary representation: 010000\n",
    "\n",
    "# Shift left by 4 positions\n",
    "l_shift = num << 4  # Binary representation after shift: '100000000' (Decimal:256 )\n",
    "\n",
    "print(\"Left Shift by 4:\",l_shift)  "
   ]
  },
  {
   "cell_type": "markdown",
   "id": "0939e6aa",
   "metadata": {},
   "source": [
    "### 5. Create a list containing int type data of length 15. Then write a code to check if 10 is present in the list or not."
   ]
  },
  {
   "cell_type": "markdown",
   "id": "abd04553",
   "metadata": {},
   "source": [
    "####  <font color=blue> _Answer_ </font>"
   ]
  },
  {
   "cell_type": "code",
   "execution_count": 11,
   "id": "96a18f5c",
   "metadata": {},
   "outputs": [
    {
     "name": "stdout",
     "output_type": "stream",
     "text": [
      "The value 10 is present in the list.\n"
     ]
    }
   ],
   "source": [
    "#List containing integer type data of length 15\n",
    "my_list = [2, 4, 6, 8, 10, 12, 14, 16, 18, 20, 22, 24, 26, 28, 30]\n",
    "\n",
    "# Check if 10 is present in the list\n",
    "if 10 in my_list:\n",
    "    print(\"The value 10 is present in the list.\")\n",
    "else:\n",
    "    print(\"The value 10 is not present in the list.\")\n",
    "    "
   ]
  },
  {
   "cell_type": "code",
   "execution_count": null,
   "id": "4864580a",
   "metadata": {},
   "outputs": [],
   "source": []
  }
 ],
 "metadata": {
  "kernelspec": {
   "display_name": "Python 3 (ipykernel)",
   "language": "python",
   "name": "python3"
  },
  "language_info": {
   "codemirror_mode": {
    "name": "ipython",
    "version": 3
   },
   "file_extension": ".py",
   "mimetype": "text/x-python",
   "name": "python",
   "nbconvert_exporter": "python",
   "pygments_lexer": "ipython3",
   "version": "3.9.13"
  }
 },
 "nbformat": 4,
 "nbformat_minor": 5
}
