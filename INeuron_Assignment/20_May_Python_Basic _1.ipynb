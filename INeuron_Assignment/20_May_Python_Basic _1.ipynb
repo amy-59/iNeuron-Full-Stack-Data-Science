{
 "cells": [
  {
   "cell_type": "markdown",
   "id": "f640afef",
   "metadata": {},
   "source": [
    "<h1 align = 'center'> Assignment_6</h3>"
   ]
  },
  {
   "cell_type": "markdown",
   "id": "4ef93784",
   "metadata": {},
   "source": [
    "### 1. What are keywords in python? Using the keyword library, print all the python keywords."
   ]
  },
  {
   "cell_type": "markdown",
   "id": "b6a9910e",
   "metadata": {},
   "source": [
    "<font color = 'blue'> _Answer_ </font>"
   ]
  },
  {
   "cell_type": "markdown",
   "id": "36d6c014",
   "metadata": {},
   "source": [
    "__Keywords__:\n",
    "- Keywords in Python are reserved words that cannot be used as ordinary identifiers. \n",
    "- They are used to define the syntax and structure of the Python language.\n",
    "- As of Python 3.9, there are 35 keywords."
   ]
  },
  {
   "cell_type": "code",
   "execution_count": 1,
   "id": "e0b75640",
   "metadata": {},
   "outputs": [
    {
     "name": "stdout",
     "output_type": "stream",
     "text": [
      "Keywords in python 3.9 are :\n",
      "  ['False', 'None', 'True', '__peg_parser__', 'and', 'as', 'assert', 'async', 'await', 'break', 'class', 'continue', 'def', 'del', 'elif', 'else', 'except', 'finally', 'for', 'from', 'global', 'if', 'import', 'in', 'is', 'lambda', 'nonlocal', 'not', 'or', 'pass', 'raise', 'return', 'try', 'while', 'with', 'yield']\n"
     ]
    }
   ],
   "source": [
    "import keyword\n",
    "print('Keywords in python 3.9 are :\\n ',keyword.kwlist)"
   ]
  },
  {
   "cell_type": "markdown",
   "id": "724b8c46",
   "metadata": {},
   "source": [
    "### 2. What are the rules to create variables in python?\n"
   ]
  },
  {
   "cell_type": "markdown",
   "id": "6ad07ad7",
   "metadata": {},
   "source": [
    "<font color='blue'> _Answer_ </font>"
   ]
  },
  {
   "cell_type": "markdown",
   "id": "2f7aef0e",
   "metadata": {},
   "source": [
    "- Rules to create python variable\n",
    "    - A variable name must start with a letter or the underscore character\n",
    "    - A variable name cannot start with a number\n",
    "    - A variable name can only contain alpha-numeric characters and underscores (A-z, 0-9, and _ )\n",
    "    - Variable names are case-sensitive (age, Age and AGE are three different variables)"
   ]
  },
  {
   "cell_type": "markdown",
   "id": "407fbc6f",
   "metadata": {},
   "source": [
    "### 3. What are the standards and conventions followed for the nomenclature of variables in python to improve code readability and maintainability?"
   ]
  },
  {
   "cell_type": "markdown",
   "id": "9ecb3a5b",
   "metadata": {},
   "source": [
    "<font color='blue'> _Answer_ </font>"
   ]
  },
  {
   "cell_type": "markdown",
   "id": "6753e3a4",
   "metadata": {},
   "source": [
    "- Standard and conventions followed for nomenclature of variable. Though these conventions are not enforced by the Python language itself, but they are widely adopted by the Python community.\n",
    "    1. Use descriptive names: Choose meaningful and descriptive names for variables that indicate their purpose or content. This helps make your code more readable and self-explanatory.\n",
    "    2. Use lowercase letters: Variable names should be in lowercase letters, and words within a variable name should be separated by underscores (_). For example: <code>my_variable</code>, <code>number_of_students</code>.\n",
    "    3. Avoid using reserved keywords: Do not use Python's reserved keywords (e.g., <code>if</code>, <code>for</code>, <code>while</code>, <code>def</code>, etc.) as variable names.\n",
    "    4. Follow the naming conventions for specific types of variables:\n",
    "        - __Constants__: Use uppercase letters and underscores to separate words. For example: <code >MAX_SIZE</code>, <code> PI_VALUE. </code>\n",
    "        - __Functions__: Use lowercase letters and underscores, following the same conventions as variable names. For example: <code>calculate_area()</code>, <code>print_result()</code>.\n",
    "        - __Classes__: Use CamelCase naming convention, where each word starts with an uppercase letter and there are no underscores. For example: <code>MyClass</code>, <code>CarModel</code>.\n",
    "    5. Be consistent: Maintain consistency in naming conventions throughout your codebase. If you start using a certain naming style, stick to it.\n",
    "    6. Avoid single-letter variable names: In general, try to use descriptive names instead of single-letter names. This helps in understanding the purpose of the variable.\n",
    "    7. Use plural for collections: When naming collections, such as lists or dictionaries, use plural nouns to indicate that they contain multiple elements. For example: <code>students </code>, <code>cars </code>.\n",
    "\n",
    "    8. Prefixes and suffixes: Consider using prefixes or suffixes to indicate the type or purpose of a variable. For example, <code>is_ </code> prefix for boolean variables, <code>num_ </code> prefix for numerical variables.\n",
    "\n",
    "\n",
    "\n",
    "\n",
    "\n",
    "\n",
    "\n",
    "\n"
   ]
  },
  {
   "cell_type": "markdown",
   "id": "9e9465eb",
   "metadata": {},
   "source": [
    "### 4. What will happen if a keyword is used as a variable name?"
   ]
  },
  {
   "cell_type": "markdown",
   "id": "6a8cc7ee",
   "metadata": {},
   "source": [
    "<font color='blue'> _Answer_ </font>"
   ]
  },
  {
   "cell_type": "markdown",
   "id": "a35ddb8a",
   "metadata": {},
   "source": [
    "- In programming, keywords are reserved words that have a specific meaning and cannot be used as variable names. \n",
    "- Using a keyword as a variable name would cause confusion and errors in the code, as the keyword would not be recognized in its intended context.\n",
    "- If a keyword is used as a variable name in Python, it will result in a __syntax error__.\n",
    "- It's best to use meaningful, descriptive names for variables that clearly indicate their purpose and usage.\n"
   ]
  },
  {
   "cell_type": "raw",
   "id": "371d0921",
   "metadata": {},
   "source": [
    "# Trying to use a keyword as a variable name\n",
    "for = 10\n",
    "\n",
    "# This will raise a SyntaxError"
   ]
  },
  {
   "cell_type": "markdown",
   "id": "4966c5b9",
   "metadata": {},
   "source": [
    "### 5. For what purpose def keyword is used?\n"
   ]
  },
  {
   "cell_type": "markdown",
   "id": "b49d2b52",
   "metadata": {},
   "source": [
    "<font color='blue'> _Answer_ </font>"
   ]
  },
  {
   "cell_type": "markdown",
   "id": "fc91c40c",
   "metadata": {},
   "source": [
    "- The def keyword in Python is used to define a function. \n",
    "- It is an essential part of function declaration and enables you to create reusable blocks of code that can be invoked or called from different parts of a program."
   ]
  },
  {
   "cell_type": "code",
   "execution_count": 2,
   "id": "4b2c894b",
   "metadata": {},
   "outputs": [
    {
     "name": "stdout",
     "output_type": "stream",
     "text": [
      "Hi, my name is  Chen\n"
     ]
    }
   ],
   "source": [
    "def introduction(name):\n",
    "    print(\"Hi, my name is \",name)\n",
    "    \n",
    "introduction(\"Chen\")"
   ]
  },
  {
   "cell_type": "markdown",
   "id": "6e30203d",
   "metadata": {},
   "source": [
    "### 6. What is the operation of this special character ‘\\’?"
   ]
  },
  {
   "cell_type": "markdown",
   "id": "d7453f95",
   "metadata": {},
   "source": [
    "<font color='blue'> _Answer_ </font>"
   ]
  },
  {
   "cell_type": "markdown",
   "id": "4771186a",
   "metadata": {},
   "source": [
    "The special character \"\\\\\" is known as the backslash in programming languages.\n",
    "- The backslash is often used as an escape character in strings to represent special characters or sequences.\n",
    "- An escape sequence is a combination of a backslash and another character that has a special meaning.\n",
    "- Examples of escape sequences include \\n for a newline, \\t for a tab, \\\\\" for a double quote, and \\\\\\ to represent a literal backslash."
   ]
  },
  {
   "cell_type": "code",
   "execution_count": 3,
   "id": "03cfe0d0",
   "metadata": {},
   "outputs": [
    {
     "name": "stdout",
     "output_type": "stream",
     "text": [
      "Print string on new line:\n",
      "Hello World\n",
      "Print string with tab between words:Hello\tWorld\n"
     ]
    }
   ],
   "source": [
    "\n",
    "print(\"Print string on new line:\\nHello World\")\n",
    "\n",
    "\n",
    "print(\"Print string with tab between words:Hello\\tWorld\")"
   ]
  },
  {
   "cell_type": "markdown",
   "id": "cefef7d4",
   "metadata": {},
   "source": [
    "### 7. Give an example of the following conditions: \n",
    " #### (i) Homogeneous list <br>  (ii) Heterogeneous set <br> (iii) Homogeneous tuple\n"
   ]
  },
  {
   "cell_type": "markdown",
   "id": "88f7ba90",
   "metadata": {},
   "source": [
    "<font color='blue'> _Answer_ </font>"
   ]
  },
  {
   "cell_type": "markdown",
   "id": "c947690d",
   "metadata": {},
   "source": [
    "__(i) Homogeneous list:__\n",
    "- A homogeneous list is a list where all the elements are of the same data type. "
   ]
  },
  {
   "cell_type": "code",
   "execution_count": 4,
   "id": "0e9605db",
   "metadata": {},
   "outputs": [],
   "source": [
    "num= [1, 2, 3, 4, 5]            #homogeneous list contain only string value\n",
    "name=[\"Chen\",\"Suho\",\"Baekhyun\"] #homogeneous list contain only string value"
   ]
  },
  {
   "cell_type": "markdown",
   "id": "76f7ae8b",
   "metadata": {},
   "source": [
    "__(ii) Heterogeneous set:__\n",
    "- A heterogeneous set is a set where the elements can be of different data types. "
   ]
  },
  {
   "cell_type": "code",
   "execution_count": 5,
   "id": "95f53c50",
   "metadata": {},
   "outputs": [],
   "source": [
    "Hetro_set={1, 1.2 , \"Sehun\"} # hetrogeneous set contrain diffrent int,float,string value"
   ]
  },
  {
   "cell_type": "markdown",
   "id": "7302ebfe",
   "metadata": {},
   "source": [
    "__(iii) Homogeneous tuple:__\n",
    "- A homogeneous tuple is a tuple where all the elements are of the same data type. "
   ]
  },
  {
   "cell_type": "code",
   "execution_count": 6,
   "id": "bd36a57f",
   "metadata": {},
   "outputs": [],
   "source": [
    "homo_tuple=(\"Chen\",\"Suho\",\"Kai\",\"sehun\") #homogeneous tuple contain only string value"
   ]
  },
  {
   "cell_type": "markdown",
   "id": "171d91d3",
   "metadata": {},
   "source": [
    "### 8. Explain the mutable and immutable data types with proper explanation & examples."
   ]
  },
  {
   "cell_type": "markdown",
   "id": "d74042fa",
   "metadata": {},
   "source": [
    "<font color='blue'> _Answer_ </font>"
   ]
  },
  {
   "cell_type": "markdown",
   "id": "5570d208",
   "metadata": {},
   "source": [
    "__Mutable Data Types:__\n",
    " - Mutable data types are those whose values can be modified after they are created.\n",
    " - Modifications to mutable objects directly affect the object itself, without creating a new object.\n",
    " - Mutable objects allow for in-place modifications, which can be efficient for large data structures.\n",
    " - Mutable data types in Python:\n",
    "     - lists\n",
    "     - dictionaries\n",
    "     - sets"
   ]
  },
  {
   "cell_type": "code",
   "execution_count": 7,
   "id": "543c2da6",
   "metadata": {},
   "outputs": [
    {
     "name": "stdout",
     "output_type": "stream",
     "text": [
      "List ['E', 'X', 'O']\n",
      "Dictionary: {'A': 'Sehun', 'B': 'Chen', 'C': 'Baekhyun'}\n"
     ]
    }
   ],
   "source": [
    "# mutable datatype\n",
    "\n",
    "#Example 1\n",
    "list1=[\"E\",\"X\",\"U\"]\n",
    "list1[2]=\"O\"\n",
    "print(\"List\",list1)\n",
    "\n",
    "#Exaple 2\n",
    "dict1={\"A\":\"Sehun\",\"B\":\"Chen\",\"C\":\"Chanyeol\"}\n",
    "dict1[\"C\"]=\"Baekhyun\"# change vlue of key\"C\" to Baekhyun\n",
    "print(\"Dictionary:\",dict1)"
   ]
  },
  {
   "cell_type": "markdown",
   "id": "0b14adde",
   "metadata": {},
   "source": [
    "__Immutable Data Types:__\n",
    " - Immutable data types are those whose values cannot be modified once they are created.\n",
    " - Any attempt to modify an immutable object results in the creation of a new object with the modified value.\n",
    " - Immutable objects are typically safer to use because they ensure data integrity and prevent unexpected changes.\n",
    " - Immutable data types in Python:\n",
    "    - Numbers (int, float),\n",
    "    - strings (str),\n",
    "    - tuples\n",
    "    - Frozen set"
   ]
  },
  {
   "cell_type": "code",
   "execution_count": 8,
   "id": "22c9fefc",
   "metadata": {},
   "outputs": [
    {
     "ename": "TypeError",
     "evalue": "'tuple' object does not support item assignment",
     "output_type": "error",
     "traceback": [
      "\u001b[1;31m---------------------------------------------------------------------------\u001b[0m",
      "\u001b[1;31mTypeError\u001b[0m                                 Traceback (most recent call last)",
      "\u001b[1;32m~\\AppData\\Local\\Temp\\ipykernel_1180\\2573515179.py\u001b[0m in \u001b[0;36m<module>\u001b[1;34m\u001b[0m\n\u001b[0;32m      1\u001b[0m \u001b[1;31m# example\u001b[0m\u001b[1;33m\u001b[0m\u001b[1;33m\u001b[0m\u001b[0m\n\u001b[0;32m      2\u001b[0m \u001b[0mtup1\u001b[0m \u001b[1;33m=\u001b[0m \u001b[1;33m(\u001b[0m\u001b[1;34m\"Chen\"\u001b[0m\u001b[1;33m,\u001b[0m\u001b[1;34m\"Sehun\"\u001b[0m\u001b[1;33m,\u001b[0m\u001b[1;34m\"Xiumin\"\u001b[0m\u001b[1;33m)\u001b[0m\u001b[1;33m\u001b[0m\u001b[1;33m\u001b[0m\u001b[0m\n\u001b[1;32m----> 3\u001b[1;33m \u001b[0mtup1\u001b[0m\u001b[1;33m[\u001b[0m\u001b[1;36m1\u001b[0m\u001b[1;33m]\u001b[0m\u001b[1;33m=\u001b[0m\u001b[1;34m\"Suho\"\u001b[0m \u001b[1;31m# As tuple is imutable assigning value to 2nd index is not possible\u001b[0m\u001b[1;33m\u001b[0m\u001b[1;33m\u001b[0m\u001b[0m\n\u001b[0m",
      "\u001b[1;31mTypeError\u001b[0m: 'tuple' object does not support item assignment"
     ]
    }
   ],
   "source": [
    "# example\n",
    "tup1 = (\"Chen\",\"Sehun\",\"Xiumin\")\n",
    "tup1[1]=\"Suho\" # As tuple is imutable assigning value to 2nd index is not possible"
   ]
  },
  {
   "cell_type": "markdown",
   "id": "5d6b5a93",
   "metadata": {},
   "source": [
    "### 9. Write a code to create the given structure using only for loop.\n"
   ]
  },
  {
   "cell_type": "markdown",
   "id": "67d6b4c0",
   "metadata": {},
   "source": [
    "<font color='blue'> _Answer_ </font>"
   ]
  },
  {
   "cell_type": "code",
   "execution_count": 9,
   "id": "a7bd9ca7",
   "metadata": {},
   "outputs": [
    {
     "name": "stdout",
     "output_type": "stream",
     "text": [
      "    *\n",
      "   ***\n",
      "  *****\n",
      " *******\n",
      "*********\n"
     ]
    }
   ],
   "source": [
    "rows = 5  # Number of rows in the pattern\n",
    "\n",
    "for i in range(rows):\n",
    "    for j in range(rows - i - 1):\n",
    "        print(\" \", end=\"\")\n",
    "    \n",
    "    for j in range(2 * i + 1):\n",
    "        print(\"*\", end=\"\")\n",
    "    \n",
    "    print()"
   ]
  },
  {
   "cell_type": "markdown",
   "id": "403b229c",
   "metadata": {},
   "source": [
    "### 10. Write a code to create the given structure using while loop."
   ]
  },
  {
   "cell_type": "markdown",
   "id": "b470d66e",
   "metadata": {},
   "source": [
    "<font color='blue'> _Answer_ </font>"
   ]
  },
  {
   "cell_type": "code",
   "execution_count": 10,
   "id": "cc7f9ec8",
   "metadata": {},
   "outputs": [
    {
     "name": "stdout",
     "output_type": "stream",
     "text": [
      "|||||||||\n",
      " |||||||\n",
      "  |||||\n",
      "   |||\n",
      "    |\n"
     ]
    }
   ],
   "source": [
    "row = 5  # Number of rows\n",
    "\n",
    "while row >= 1:\n",
    "    space = 5 - row  # Number of spaces before the vertical bars\n",
    "    print(\" \" * space + \"|\" * ((row * 2)-1))\n",
    "    row -= 1"
   ]
  },
  {
   "cell_type": "code",
   "execution_count": null,
   "id": "652d3868",
   "metadata": {},
   "outputs": [],
   "source": []
  }
 ],
 "metadata": {
  "kernelspec": {
   "display_name": "Python 3 (ipykernel)",
   "language": "python",
   "name": "python3"
  },
  "language_info": {
   "codemirror_mode": {
    "name": "ipython",
    "version": 3
   },
   "file_extension": ".py",
   "mimetype": "text/x-python",
   "name": "python",
   "nbconvert_exporter": "python",
   "pygments_lexer": "ipython3",
   "version": "3.9.13"
  }
 },
 "nbformat": 4,
 "nbformat_minor": 5
}
