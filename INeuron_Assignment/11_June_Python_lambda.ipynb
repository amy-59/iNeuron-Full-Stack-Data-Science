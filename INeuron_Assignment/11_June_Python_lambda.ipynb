{
 "cells": [
  {
   "cell_type": "markdown",
   "id": "900b2d5e",
   "metadata": {},
   "source": [
    "<h1 align ='center'> Lambda Function</h1>"
   ]
  },
  {
   "cell_type": "markdown",
   "id": "48688c46",
   "metadata": {},
   "source": [
    "### 1. What is a lambda function in Python, and how does it differ from a regular function?"
   ]
  },
  {
   "cell_type": "markdown",
   "id": "5e8fdfd6",
   "metadata": {},
   "source": [
    "####  <font color=blue> _Answer_ </font>"
   ]
  },
  {
   "cell_type": "markdown",
   "id": "1bfeb004",
   "metadata": {},
   "source": [
    "__Lambda functions__\n",
    "- It is also known as anonymous functions, are a type of function in programming that can be defined without a name. \n",
    "- They are commonly used for short and simple operations, especially as arguments to higher-order functions or in situations where a full function definition is not required. \n",
    "- Some important diffrence between lambda and regular fuctions are:\n",
    "\n",
    "Parameter | Regular function |  lambda function\n",
    "- | - | -\n",
    "__Syntax__ | Defined with a name, parameters, and a block of code enclosed within curly braces ({}).<br> __def__ function_name(arguments):<br> # function body<br>return |Defined using the lambda keyword, followed by parameters, a colon, and the expression to be evaluated.<br>__lambda__ arguments : expression \n",
    "__Name__ | Regular functions have a specific name assigned to them and can be referenced using that name throughout the code. | Lambda functions are anonymous; they do not have a name assigned to them. Instead, they are usually used directly at the point where they are created or passed as arguments to other functions\n",
    "__Number of expressions/statements__ | Regular functions can contain multiple expressions or statements inside their block. | Lambda functions are limited to a single expression. This is because they are designed for short and simple operations.\n",
    "__Return statement:__ | In regular functions, you explicitly use the return keyword to specify the value to be returned. | In lambda functions, the result of the expression is automatically returned.\n"
   ]
  },
  {
   "cell_type": "code",
   "execution_count": 1,
   "id": "7c3433d3",
   "metadata": {},
   "outputs": [
    {
     "name": "stdout",
     "output_type": "stream",
     "text": [
      "5.0\n"
     ]
    }
   ],
   "source": [
    "#Example_1\n",
    "\n",
    "cube_root= lambda x: x**(1/3) #lambda fucion for finding cube\n",
    "  \n",
    "# Call the lambda function\n",
    "print(cube_root(125))"
   ]
  },
  {
   "cell_type": "markdown",
   "id": "b7976e85",
   "metadata": {},
   "source": [
    "### 2. Can a lambda function in Python have multiple arguments? If yes, how can you define and use them?"
   ]
  },
  {
   "cell_type": "markdown",
   "id": "3600c293",
   "metadata": {},
   "source": [
    "####  <font color=blue> _Answer_ </font>"
   ]
  },
  {
   "cell_type": "markdown",
   "id": "c54cd8c0",
   "metadata": {},
   "source": [
    "- Lambda function can take multiple arguments, but can only have one expression and they can be used wherever function objects are required. \n",
    "- Here is the syntax of the lambda.\n",
    " > lambda arg1, arg2, ..., argN: expression\n",
    "\n",
    "- Here arg1, arg2, ..., argN are the input arguments, and expression is the single expression that the lambda function will evaluate and return.\n",
    "\n",
    "\n",
    "\n"
   ]
  },
  {
   "cell_type": "code",
   "execution_count": 4,
   "id": "da16cbee",
   "metadata": {},
   "outputs": [
    {
     "name": "stdout",
     "output_type": "stream",
     "text": [
      "Addition 30\n",
      "Multiplication 24\n"
     ]
    }
   ],
   "source": [
    "#Example_1\n",
    "# Lambda example with two arguments\n",
    "add = lambda x, y : x + y\n",
    "print(\"Addition\",add(10, 20)) \n",
    "\n",
    "#Example_2\n",
    "multiply= lambda a, b, c: a * b * c\n",
    "result = multiply(2, 3, 4)\n",
    "print(\"Multiplication\",result)  \n",
    "\n"
   ]
  },
  {
   "cell_type": "markdown",
   "id": "f0346ee9",
   "metadata": {},
   "source": [
    "- For multiple arguments, we  can take the values for these arguments from the list, To pass values to these arguments you need to use two iterables.\n",
    "- The map() function applies this lambda function to take multiple argument.\n",
    "\n",
    "\n"
   ]
  },
  {
   "cell_type": "code",
   "execution_count": 7,
   "id": "804e89cc",
   "metadata": {},
   "outputs": [
    {
     "name": "stdout",
     "output_type": "stream",
     "text": [
      "Addition of List elements :  [3, 7, 7, 8, 7]\n"
     ]
    }
   ],
   "source": [
    "#Example_3\n",
    "# Input List\n",
    "numbers1 = [2, 4, 5, 6, 3]\n",
    "numbers2 = [1, 3, 2, 2, 4]\n",
    "\n",
    "# Create lambda function that takes two arguments\n",
    "add_fun = lambda x, y: x+y\n",
    "\n",
    "# Use lambda with map() function\n",
    "add_result = list(map(add_fun, numbers1, numbers2))\n",
    "print(\"Addition of List elements : \", add_result) "
   ]
  },
  {
   "cell_type": "markdown",
   "id": "c35a9f1e",
   "metadata": {},
   "source": [
    "### 3. How are lambda functions typically used in Python? Provide an example use case."
   ]
  },
  {
   "cell_type": "markdown",
   "id": "034cb76e",
   "metadata": {},
   "source": [
    "####  <font color=blue> _Answer_ </font>"
   ]
  },
  {
   "cell_type": "markdown",
   "id": "04d3159a",
   "metadata": {},
   "source": [
    "- Lambda functions are typically used in Python for short, simple operations that do not require a full function definition. \n",
    "- They are commonly employed in functional programming and are often used as arguments to higher-order functions such as <code>map</code>, <code>filter</code>, and <code>reduce</code>. \n",
    "- Lambda functions provide a concise and convenient way to define small functions on the fly, making code more readable and expressive."
   ]
  },
  {
   "cell_type": "markdown",
   "id": "bf042380",
   "metadata": {},
   "source": [
    "__Using <code>map</code> with lambda function__ "
   ]
  },
  {
   "cell_type": "code",
   "execution_count": 7,
   "id": "5e148f61",
   "metadata": {},
   "outputs": [
    {
     "name": "stdout",
     "output_type": "stream",
     "text": [
      "Cube of number:  [1, 8, 27, 64, 125]\n"
     ]
    }
   ],
   "source": [
    "#Example_1\n",
    "\n",
    "lst = [1, 2, 3, 4, 5]\n",
    "# map the list by cubing each element  \n",
    "lst1 = list(map(lambda x: x **3, lst)) \n",
    "print(\"Cube of number: \",lst1)\n"
   ]
  },
  {
   "cell_type": "markdown",
   "id": "55a1fa4c",
   "metadata": {},
   "source": [
    "- The syntax for the map function is as follows:\n",
    "> map(function, iterable)\n",
    "\n",
    "- The map function takes in a function and an iterable(list, tuple, etc.) as an input; applies passed function to each item of an iterable and returns a map object(an iterator).\n",
    "- Here we use lambda as fuction to cube each item in iterable (list) and return in form of list "
   ]
  },
  {
   "cell_type": "markdown",
   "id": "f6a49ab6",
   "metadata": {},
   "source": [
    "__Using <code>filter</code> with lambda function__ "
   ]
  },
  {
   "cell_type": "code",
   "execution_count": 8,
   "id": "1a2ed454",
   "metadata": {},
   "outputs": [
    {
     "name": "stdout",
     "output_type": "stream",
     "text": [
      "Adult age greater than 18: [90, 59, 21, 60]\n"
     ]
    }
   ],
   "source": [
    "# Example_2\n",
    "ages = [13, 90, 17, 59, 21, 60, 5]\n",
    "\n",
    "#Filter all people having age more than 18,\n",
    "adults = list(filter(lambda age: age > 18, ages))\n",
    " \n",
    "print(\"Adult age greater than 18:\",adults)"
   ]
  },
  {
   "cell_type": "markdown",
   "id": "d052ad36",
   "metadata": {},
   "source": [
    "- Syntax of filter:\n",
    "> filter(function, iterable)\n",
    "- It works similarly to the map. It returns a filter object, unlike a map object. \n",
    "- Here we use lambda as function and age list as iterable to filter age grater than 18 "
   ]
  },
  {
   "cell_type": "markdown",
   "id": "f2991e5a",
   "metadata": {},
   "source": [
    "__Using <code>reduce</code> with lambda function__ "
   ]
  },
  {
   "cell_type": "code",
   "execution_count": 3,
   "id": "ab47d3bb",
   "metadata": {},
   "outputs": [
    {
     "name": "stdout",
     "output_type": "stream",
     "text": [
      "Summation of all the number in the list:  15\n"
     ]
    }
   ],
   "source": [
    "# Example_3\n",
    "from functools import reduce \n",
    "nums = [1, 2, 3, 4, 5]\n",
    "# Sum of list \n",
    "summation = reduce(lambda x, y: x + y, nums)\n",
    "print(\"Summation of all the number in the list: \",summation)"
   ]
  },
  {
   "cell_type": "markdown",
   "id": "53d6e336",
   "metadata": {},
   "source": [
    "- Syntax of reduce:\n",
    "> reduce(function, iterable, [, initializer])\n",
    "- It applies a function cumulatively/successively on each item of an iterable and returns a single value.\n"
   ]
  },
  {
   "cell_type": "markdown",
   "id": "e4537936",
   "metadata": {},
   "source": [
    "### 4.  What are the advantages and limitations of lambda functions compared to regular functions in Python?\n"
   ]
  },
  {
   "cell_type": "markdown",
   "id": "f7404b42",
   "metadata": {},
   "source": [
    "####  <font color=blue> _Answer_ </font>"
   ]
  },
  {
   "cell_type": "markdown",
   "id": "d873bada",
   "metadata": {},
   "source": [
    "1. __Advantages of lambda function__\n",
    "   - The code is simple and clear.\n",
    "   - No additional variables are added.\n",
    "   - Anonymous Functions: Lambda functions are anonymous, meaning they don't require a function name. This is useful when you need a small function for a specific operation without cluttering the code with unnecessary function names.\n",
    "   - Functional Programming: Lambda functions are commonly used in functional programming paradigms. They can be passed as arguments to higher-order functions like map, filter, and reduce, making code more expressive and concise.\n",
    "    \n",
    "   \n",
    "\n",
    "2. __Limitation of lambda function__\n",
    "    - Lambda expressions are a strange and unfamiliar syntax to many Python programmers.\n",
    "    - __No Documentation__: Lambda functions don't support docstrings, Lambda functions themselves lack names and documentation, meaning that the only way to know what they do is to read the code.\n",
    "    - Lambda expressions can only contain one statement, so some readable language features, such as tuple unpacking, cannot be used with them.\n",
    "    - Lambda functions can often be replaced with existing functions in the standard library or Python built-in functions.\n",
    "    - __Readability__: Lambda functions, especially with multiple arguments, can become less readable and harder to understand compared to well-named regular functions.\n",
    "    - __Debugging__: When debugging, lambda functions can be less informative because they lack a proper function name and stack trace."
   ]
  },
  {
   "cell_type": "markdown",
   "id": "7900e79a",
   "metadata": {},
   "source": [
    "### 5. Are lambda functions in Python able to access variables defined outside of their own scope? Explain with an example"
   ]
  },
  {
   "cell_type": "markdown",
   "id": "119f1de7",
   "metadata": {},
   "source": [
    "####  <font color=blue> _Answer_ </font>"
   ]
  },
  {
   "cell_type": "markdown",
   "id": "57d9d440",
   "metadata": {},
   "source": [
    "- Yes, lambda functions in Python can access variables defined outside of their own scope. This is known as a \"closure.\"\n",
    "- A closure allows a lambda function to \"capture\" and remember the values of variables from the enclosing scope where it was defined, even if those variables are not passed as arguments to the lambda function. This can be particularly useful when you need to create small, anonymous functions (lambda functions) that rely on some external state."
   ]
  },
  {
   "cell_type": "code",
   "execution_count": 2,
   "id": "056a58f2",
   "metadata": {},
   "outputs": [
    {
     "name": "stdout",
     "output_type": "stream",
     "text": [
      "60\n"
     ]
    }
   ],
   "source": [
    "def outer_function(x):\n",
    "    # Define a lambda function inside the outer function\n",
    "    inner_lambda = lambda y: x + y\n",
    "    return inner_lambda\n",
    "\n",
    "# Create a closure by calling the outer function\n",
    "closure = outer_function(10)\n",
    "\n",
    "# Use the closure to add 5 to the captured variable x\n",
    "result = closure(50)\n",
    "\n",
    "print(result)  \n"
   ]
  },
  {
   "cell_type": "markdown",
   "id": "31a6b6fb",
   "metadata": {},
   "source": [
    "### 6. Write a lambda function to calculate the square of a given number"
   ]
  },
  {
   "cell_type": "markdown",
   "id": "94158007",
   "metadata": {},
   "source": [
    "####  <font color=blue> _Answer_ </font>"
   ]
  },
  {
   "cell_type": "code",
   "execution_count": 21,
   "id": "0faa9719",
   "metadata": {},
   "outputs": [
    {
     "name": "stdout",
     "output_type": "stream",
     "text": [
      "Square of 5 25\n",
      "Square of 16 256\n"
     ]
    }
   ],
   "source": [
    "# Square of numbers\n",
    "# lambda arguments : expression\n",
    "square= lambda x: x**2\n",
    "\n",
    "print(\"Square of 5\",square(5))\n",
    "print(\"Square of 16\",square(16))\n"
   ]
  },
  {
   "cell_type": "markdown",
   "id": "476f40d2",
   "metadata": {},
   "source": [
    "### 7. Create a lambda function to find the maximum value in a list of integer "
   ]
  },
  {
   "cell_type": "markdown",
   "id": "7a691b74",
   "metadata": {},
   "source": [
    "####  <font color=blue> _Answer_ </font>"
   ]
  },
  {
   "cell_type": "code",
   "execution_count": 4,
   "id": "fb2c03a7",
   "metadata": {},
   "outputs": [
    {
     "name": "stdout",
     "output_type": "stream",
     "text": [
      "435\n"
     ]
    }
   ],
   "source": [
    "#Program using simple max fuction of listt to find maximum number\n",
    "max_num= lambda x : max(num)\n",
    "\n",
    "num=[34,435,56,87,90,67]\n",
    "maximum= max_num(num)\n",
    "print(maximum)"
   ]
  },
  {
   "cell_type": "code",
   "execution_count": 5,
   "id": "11384879",
   "metadata": {},
   "outputs": [
    {
     "name": "stdout",
     "output_type": "stream",
     "text": [
      "435\n"
     ]
    }
   ],
   "source": [
    "#Second Program to find max number\n",
    "from functools import reduce \n",
    "\n",
    "num=[34,435,56,87,90,67]\n",
    "max_num= reduce(lambda x,y: x if x>y else y, num)\n",
    "print(max_num)"
   ]
  },
  {
   "cell_type": "markdown",
   "id": "a969467d",
   "metadata": {},
   "source": [
    "### 8. Implement a lambda function to filter out all the even numbers from a list of integers"
   ]
  },
  {
   "cell_type": "markdown",
   "id": "96b38d3c",
   "metadata": {},
   "source": [
    "####  <font color=blue> _Answer_ </font>"
   ]
  },
  {
   "cell_type": "code",
   "execution_count": 6,
   "id": "ec5290b5",
   "metadata": {},
   "outputs": [
    {
     "name": "stdout",
     "output_type": "stream",
     "text": [
      "Numbers:\n",
      " [1, 2, 3, 4, 5, 6, 7, 8, 9, 10, 11, 12, 13, 14, 15, 16, 17, 18, 19, 20, 21, 22, 23, 24, 25, 26, 27, 28, 29, 30, 31, 32, 33, 34, 35, 36, 37, 38, 39, 40, 41, 42, 43, 44, 45, 46, 47, 48, 49, 50]\n",
      "\n",
      "Even numbers:\n",
      " [2, 4, 6, 8, 10, 12, 14, 16, 18, 20, 22, 24, 26, 28, 30, 32, 34, 36, 38, 40, 42, 44, 46, 48, 50]\n"
     ]
    }
   ],
   "source": [
    "# creating list of numbers from 1 to 50\n",
    "num=[x for x in range(1,51) ]\n",
    "\n",
    "# Use lambda function for even number fuction and apply filter on it \n",
    "filter_even= list(filter(lambda x: x%2==0,num))\n",
    "\n",
    "# print result\n",
    "print(\"Numbers:\\n\",num)\n",
    "print(\"\\nEven numbers:\\n\",filter_even)"
   ]
  },
  {
   "cell_type": "markdown",
   "id": "b87587cd",
   "metadata": {},
   "source": [
    "### 9. Write a lambda function to sort a list of strings in ascending order based on the length of each string"
   ]
  },
  {
   "cell_type": "markdown",
   "id": "08680526",
   "metadata": {},
   "source": [
    "####  <font color=blue> _Answer_ </font>"
   ]
  },
  {
   "cell_type": "code",
   "execution_count": 7,
   "id": "c1d37683",
   "metadata": {},
   "outputs": [
    {
     "name": "stdout",
     "output_type": "stream",
     "text": [
      "Sorted string based on length of string:\n",
      "  ['Lay', 'Kai', 'Suho', 'Chen', 'Sehun', 'Xiumin', 'Baekhyun', 'Chanyeol', 'Kyungsoo']\n"
     ]
    }
   ],
   "source": [
    "# list of strings\n",
    "strings = [\"Xiumin\", \"Lay\", \"Suho\", \"Chen\", \"Baekhyun\", \"Chanyeol\",\"Kyungsoo\",\"Kai\",\"Sehun\"]\n",
    "\n",
    "# Lambda function to sort strings based on their length\n",
    "sorted_strings = sorted(strings, key=lambda s: len(s))\n",
    "\n",
    "# Output the sorted list of strings\n",
    "print(\"Sorted string based on length of string:\\n \",sorted_strings)\n"
   ]
  },
  {
   "cell_type": "markdown",
   "id": "4d33505a",
   "metadata": {},
   "source": [
    "### 10. Create a lambda function that takes two lists as input and returns a new list containing the common elements between the two lists."
   ]
  },
  {
   "cell_type": "markdown",
   "id": "b8421488",
   "metadata": {},
   "source": [
    "####  <font color=blue> _Answer_ </font>"
   ]
  },
  {
   "cell_type": "code",
   "execution_count": 23,
   "id": "abd51c44",
   "metadata": {},
   "outputs": [
    {
     "name": "stdout",
     "output_type": "stream",
     "text": [
      "First list: [1, 2, 3, 4, 5] \n",
      "Second List: [3, 4, 5, 6, 7]\n",
      "Common elemenets [3, 4, 5]\n"
     ]
    }
   ],
   "source": [
    "common_elements = lambda list1, list2: list(set(list1) & set(list2))\n",
    "list1 = [1, 2, 3, 4, 5]\n",
    "list2 = [3, 4, 5, 6, 7]\n",
    "\n",
    "print(\"First list: {} \\nSecond List: {}\".format(list1,list2))\n",
    "\n",
    "\n",
    "result = common_elements(list1, list2)\n",
    "print(\"Common elemenets\",result)  \n"
   ]
  },
  {
   "cell_type": "markdown",
   "id": "2cf8ee6c",
   "metadata": {},
   "source": [
    "### 11. Write a recursive function to calculate the factorial of a given positive integer"
   ]
  },
  {
   "cell_type": "markdown",
   "id": "3ea0a5b1",
   "metadata": {},
   "source": [
    "####  <font color=blue> _Answer_ </font>"
   ]
  },
  {
   "cell_type": "code",
   "execution_count": 25,
   "id": "dc71cff9",
   "metadata": {},
   "outputs": [
    {
     "name": "stdout",
     "output_type": "stream",
     "text": [
      "Enter the number: 4\n",
      "The factorial of 4 is 24\n"
     ]
    }
   ],
   "source": [
    "#Function for factorial\n",
    "def factorial(n):\n",
    "    if n==0 or n==1:\n",
    "        return 1\n",
    "    else:\n",
    "        return n * factorial(n-1)\n",
    "    \n",
    "num=int(input(\"Enter the number: \"))\n",
    "result=factorial(num)\n",
    "print(\"The factorial of {} is {}\".format(num,result))"
   ]
  },
  {
   "cell_type": "markdown",
   "id": "c6fdd21f",
   "metadata": {},
   "source": [
    "### 12. Implement a recursive function to compute the nth Fibonacci number.\n"
   ]
  },
  {
   "cell_type": "markdown",
   "id": "c397b143",
   "metadata": {},
   "source": [
    "####  <font color=blue> _Answer_ </font>"
   ]
  },
  {
   "cell_type": "markdown",
   "id": "2b61e168",
   "metadata": {},
   "source": [
    "The Fibonacci numbers are a sequence of numbers which is the sum of the two preceding ones. The sequence starts with 0 and 1, and then each subsequent number is the sum of the two previous numbers. The sequence can be defined as follows:\n",
    "\n",
    "1. Fibonacci(0) = 0\n",
    "2. Fibonacci(1) = 1\n",
    "3. Fibonacci(n) = Fibonacci(n-1) + Fibonacci(n-2) for n > 1"
   ]
  },
  {
   "cell_type": "code",
   "execution_count": 28,
   "id": "e9b1e972",
   "metadata": {},
   "outputs": [
    {
     "name": "stdout",
     "output_type": "stream",
     "text": [
      "Enter number: 5\n",
      "The 5th Fibonacci number is: 3\n"
     ]
    }
   ],
   "source": [
    "#Function for fibonacci\n",
    "def fibonacci(n):\n",
    "    if n <= 0:\n",
    "        raise ValueError(\"Fibonacci sequence is defined only for positive integers.\")\n",
    "    elif n == 1:\n",
    "        return 0\n",
    "    elif n == 2:\n",
    "        return 1\n",
    "    else:\n",
    "        return fibonacci(n - 1) + fibonacci(n - 2)\n",
    "    \n",
    "\n",
    "n = int(input(\"Enter number: \"))\n",
    "result = fibonacci(n)\n",
    "print(f\"The {n}th Fibonacci number is: {result}\")  "
   ]
  },
  {
   "cell_type": "markdown",
   "id": "cbd4238d",
   "metadata": {},
   "source": [
    "### 13. Create a recursive function to find the sum of all the elements in a given list."
   ]
  },
  {
   "cell_type": "markdown",
   "id": "160a2b23",
   "metadata": {},
   "source": [
    "####  <font color=blue> _Answer_ </font>"
   ]
  },
  {
   "cell_type": "code",
   "execution_count": 35,
   "id": "c8423341",
   "metadata": {},
   "outputs": [
    {
     "name": "stdout",
     "output_type": "stream",
     "text": [
      "The sum of elements in the list [] is: 0\n",
      "The sum of elements in the list  [1, 2, 3, 4, 5] is: 15\n"
     ]
    }
   ],
   "source": [
    "def recursive_list_sum(lst):\n",
    "    if not lst:\n",
    "        return 0\n",
    "    else:\n",
    "        return lst[0] + recursive_list_sum(lst[1:])\n",
    "    \n",
    "# Case_1\n",
    "my_list=[]\n",
    "result = recursive_list_sum(my_list)\n",
    "print(f\"The sum of elements in the list {my_list} is: {result}\")\n",
    "\n",
    "# Case_2\n",
    "my_list = [1, 2, 3, 4, 5]\n",
    "result = recursive_list_sum(my_list)\n",
    "print(f\"The sum of elements in the list  {my_list} is: {result}\")\n",
    "\n"
   ]
  },
  {
   "cell_type": "markdown",
   "id": "f68a6cf7",
   "metadata": {},
   "source": [
    "### 14. Write a recursive function to determine whether a given string is a palindrome.\n"
   ]
  },
  {
   "cell_type": "markdown",
   "id": "988c0bf6",
   "metadata": {},
   "source": [
    "####  <font color=blue> _Answer_ </font>"
   ]
  },
  {
   "cell_type": "code",
   "execution_count": 41,
   "id": "b51aaad5",
   "metadata": {},
   "outputs": [
    {
     "name": "stdout",
     "output_type": "stream",
     "text": [
      "True\n",
      "False\n"
     ]
    }
   ],
   "source": [
    "# Palindrome function\n",
    "def is_palindrome(s):\n",
    "    if len(s) <= 1:\n",
    "        return True\n",
    "    elif s[0] != s[-1]:\n",
    "        return False\n",
    "    else:\n",
    "        return is_palindrome(s[1:-1])\n",
    "    \n",
    "string1 = \"radar\"\n",
    "print(is_palindrome(string1))  \n",
    "string2 = \"hello\"\n",
    "print(is_palindrome(string2)) \n"
   ]
  },
  {
   "cell_type": "markdown",
   "id": "8ef2e264",
   "metadata": {},
   "source": [
    "### 15. Implement a recursive function to find the greatest common divisor (GCD) of two positive integers."
   ]
  },
  {
   "cell_type": "markdown",
   "id": "4080b5a8",
   "metadata": {},
   "source": [
    "####  <font color=blue> _Answer_ </font>"
   ]
  },
  {
   "cell_type": "code",
   "execution_count": 46,
   "id": "2f52586a",
   "metadata": {},
   "outputs": [
    {
     "name": "stdout",
     "output_type": "stream",
     "text": [
      "The GCD of 12 and 48 is: 12\n"
     ]
    }
   ],
   "source": [
    "#Function for GCD\n",
    "def gcd(a, b):\n",
    "    if b == 0:\n",
    "        return a\n",
    "    else:\n",
    "        return gcd(b, a % b)\n",
    "\n",
    "\n",
    "num1 = 12\n",
    "num2 = 48\n",
    "result = gcd(num1, num2)\n",
    "print(f\"The GCD of {num1} and {num2} is: {result}\")  \n",
    "\n"
   ]
  },
  {
   "cell_type": "code",
   "execution_count": null,
   "id": "2dc5e27f",
   "metadata": {},
   "outputs": [],
   "source": []
  }
 ],
 "metadata": {
  "kernelspec": {
   "display_name": "Python 3 (ipykernel)",
   "language": "python",
   "name": "python3"
  },
  "language_info": {
   "codemirror_mode": {
    "name": "ipython",
    "version": 3
   },
   "file_extension": ".py",
   "mimetype": "text/x-python",
   "name": "python",
   "nbconvert_exporter": "python",
   "pygments_lexer": "ipython3",
   "version": "3.9.13"
  }
 },
 "nbformat": 4,
 "nbformat_minor": 5
}
