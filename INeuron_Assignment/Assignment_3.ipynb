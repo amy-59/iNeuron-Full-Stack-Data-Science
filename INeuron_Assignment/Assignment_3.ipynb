{
 "cells": [
  {
   "cell_type": "markdown",
   "id": "0befad6f",
   "metadata": {},
   "source": [
    "<h3 align= 'center'> Assignment_3 </h3>"
   ]
  },
  {
   "cell_type": "markdown",
   "id": "32f9f013",
   "metadata": {},
   "source": [
    "### 1. Why are functions advantageous to have in your programs?"
   ]
  },
  {
   "cell_type": "markdown",
   "id": "1c4b6f3d",
   "metadata": {},
   "source": [
    "<font color='blue'> _Answer_</font>"
   ]
  },
  {
   "cell_type": "markdown",
   "id": "ef63312c",
   "metadata": {},
   "source": [
    "__Advantage of having python function__\n",
    "   - By including functions, we can prevent repeating the same code block repeatedly in a program.\n",
    "   - Python functions, once defined, can be called many times and from anywhere in a program.\n",
    "   - If our Python program is large, it can be separated into numerous functions which is simple to track.\n",
    "   - The key accomplishment of Python functions is we can return as many outputs as we want with different arguments."
   ]
  },
  {
   "cell_type": "markdown",
   "id": "ece5a484",
   "metadata": {},
   "source": [
    "### 2. When does the code in a function run: when it's specified or when it's called?"
   ]
  },
  {
   "cell_type": "markdown",
   "id": "502f8fb3",
   "metadata": {},
   "source": [
    "<font color= blue> _Answer_ </font>"
   ]
  },
  {
   "cell_type": "markdown",
   "id": "c7166121",
   "metadata": {},
   "source": [
    "The code in a function run/executes when the function is called, not when the function is defined/specified"
   ]
  },
  {
   "cell_type": "markdown",
   "id": "5a730430",
   "metadata": {},
   "source": [
    "### 3. What statement creates a function?"
   ]
  },
  {
   "cell_type": "markdown",
   "id": "2f7304fc",
   "metadata": {},
   "source": [
    "<font color= blue> _Answer_ </font>"
   ]
  },
  {
   "cell_type": "markdown",
   "id": "c2803bb8",
   "metadata": {},
   "source": [
    "- function having define section there is syntax<br>\n",
    "\n",
    "- def __Function_Name__(par1,par2,par_n):\n",
    "\n",
    "\n",
    "> body of function\n",
    "\n",
    "\n",
    "> retrun type\n",
    "\n",
    "\n",
    "\n",
    "\n",
    "- let's it take example"
   ]
  },
  {
   "cell_type": "code",
   "execution_count": 1,
   "id": "648b2a63",
   "metadata": {},
   "outputs": [
    {
     "name": "stdout",
     "output_type": "stream",
     "text": [
      "24\n"
     ]
    }
   ],
   "source": [
    "def add(a,b):\n",
    "    c = a+b\n",
    "    return c\n",
    "\n",
    "print(add(12,12))"
   ]
  },
  {
   "cell_type": "markdown",
   "id": "dbbeacca",
   "metadata": {},
   "source": [
    "### 4. What is the difference between a function and a function call?"
   ]
  },
  {
   "cell_type": "markdown",
   "id": "b2a135e9",
   "metadata": {},
   "source": [
    "<font color= blue> _Answer_ </font>"
   ]
  },
  {
   "cell_type": "markdown",
   "id": "4cd3ba7d",
   "metadata": {},
   "source": [
    "<table width=100%>\n",
    "    <tr>\n",
    "        <th> Function </th>\n",
    "        <th> Fuction call </th>\n",
    "     </tr>\n",
    "    <tr>\n",
    "        <td> A function is a piece of code which enhanced the reusability and modularity of your program. It means that piece of code need not be written again.</td>\n",
    "        <td> A function call means invoking or calling that function. Unless a function is called there is no use of that function.</td>\n",
    "     </tr>\n",
    "    <tr>\n",
    "        <td>A function is something whic take parameters and do some calculations and operations and returns value. </td>\n",
    "        <td>Calling a function means saying function, It gives control from main code to fuction block </td>\n",
    "        </tr>\n",
    "    <tr>\n",
    "    <td> <b>Function</b><br>\n",
    "        def add(a,b):<br>\n",
    "return a+b</td>\n",
    "     <td><b>Fuction call</b><br>\n",
    "         c = add(5,6)</td>\n",
    "    </tr>"
   ]
  },
  {
   "cell_type": "markdown",
   "id": "317695fe",
   "metadata": {},
   "source": [
    "### 5. How many global scopes are there in a Python program? How many local scopes?"
   ]
  },
  {
   "cell_type": "markdown",
   "id": "ab96a76a",
   "metadata": {},
   "source": [
    "<font color= blue> _Answer_ </font>"
   ]
  },
  {
   "cell_type": "markdown",
   "id": "243b328e",
   "metadata": {},
   "source": [
    "In Python the scope of a name defines the area of the program. we can access the variables, function and objects \n",
    "There are two types of scope\n",
    "1. global scope : The names that you define in this scope are available to all your code or we can call it as a variable that exits in the global scope.\n",
    "\n",
    "2. Local scope : The names that you define in this scope are only available or visible to the code within the scope or the variable that exits in the local scope."
   ]
  },
  {
   "cell_type": "markdown",
   "id": "630de77e",
   "metadata": {},
   "source": [
    "### 6. What happens to variables in a local scope when the function call returns?"
   ]
  },
  {
   "cell_type": "markdown",
   "id": "bae7cb94",
   "metadata": {},
   "source": [
    "<font color= blue> _Answer_ </font>"
   ]
  },
  {
   "cell_type": "markdown",
   "id": "7cd38dbe",
   "metadata": {},
   "source": [
    "- Local scope refers to the names which are defined within a function and are local to that function. \n",
    "- They can be accessed from the point of its definition until the end of the block in which it has been defined. \n",
    "- The local scope exists till the time the function has been executed."
   ]
  },
  {
   "cell_type": "markdown",
   "id": "798ecc36",
   "metadata": {},
   "source": [
    "### 7. What is the concept of a return value? Is it possible to have a return value in an expression?"
   ]
  },
  {
   "cell_type": "markdown",
   "id": "92bacb5e",
   "metadata": {},
   "source": [
    "<font color= blue> _Answer_ </font>"
   ]
  },
  {
   "cell_type": "markdown",
   "id": "0c4e2253",
   "metadata": {},
   "source": [
    "1. The <code>return</code> statement, ends the function call and returns the result to the caller. It is a key component in any function or method in a code which includes the return keyword and the value that is to be returned after that.\n",
    "\n",
    "  __Some points to remember while using return():__\n",
    "\n",
    "- The statements after the return() statement are not executed.\n",
    "- return() statement can not be used outside the function.\n",
    "- If the return() statement is without any expression, then the NONE value is returned.\n"
   ]
  },
  {
   "cell_type": "code",
   "execution_count": 2,
   "id": "80a4ede6",
   "metadata": {},
   "outputs": [
    {
     "name": "stdout",
     "output_type": "stream",
     "text": [
      "Addition:  4\n"
     ]
    }
   ],
   "source": [
    "# Function definition\n",
    "def add(a, b):\n",
    "    result = a + b\n",
    "    return result # return the result\n",
    "\n",
    "# Function call\n",
    "print(\"Addition: \",add(2, 2))"
   ]
  },
  {
   "cell_type": "markdown",
   "id": "ff7b1782",
   "metadata": {},
   "source": [
    "2. __It possible to have a return value in an expression__\n",
    "- you can use a function call or method invocation as part of an expression, and the return value of that function or method becomes part of the overall expression.\n",
    "- This allows you to directly use the result of a function call in calculations, comparisons, or assignments. "
   ]
  },
  {
   "cell_type": "code",
   "execution_count": 3,
   "id": "e51e380f",
   "metadata": {},
   "outputs": [
    {
     "name": "stdout",
     "output_type": "stream",
     "text": [
      "132\n"
     ]
    }
   ],
   "source": [
    "def addition(a, b):\n",
    "    return a + b # return addion of 2 numbers\n",
    "\n",
    "\n",
    "result = addition(11,22) * 4\n",
    "\n",
    "print(result)  \n"
   ]
  },
  {
   "cell_type": "markdown",
   "id": "5e03e341",
   "metadata": {},
   "source": [
    "### 8. If a function does not have a return statement, what is the return value of a call to that function?"
   ]
  },
  {
   "cell_type": "markdown",
   "id": "16de03d9",
   "metadata": {},
   "source": [
    "<font color= blue> _Answer_ </font>"
   ]
  },
  {
   "cell_type": "markdown",
   "id": "4b53f84d",
   "metadata": {},
   "source": [
    "- If a function does not have a return statement, the return value of a call to that function is typically None. \n",
    "- None is a special value that represents the absence of a value or the lack of a meaningful result."
   ]
  },
  {
   "cell_type": "code",
   "execution_count": 4,
   "id": "02e2df19",
   "metadata": {},
   "outputs": [
    {
     "name": "stdout",
     "output_type": "stream",
     "text": [
      "None\n"
     ]
    }
   ],
   "source": [
    "def omit_return_stmt():\n",
    "    #Omit the return statemnt\n",
    "    pass\n",
    "\n",
    "print(omit_return_stmt())"
   ]
  },
  {
   "cell_type": "code",
   "execution_count": 5,
   "id": "d27cda84",
   "metadata": {},
   "outputs": [
    {
     "name": "stdout",
     "output_type": "stream",
     "text": [
      "None\n"
     ]
    }
   ],
   "source": [
    "# even if you don't want to return value you can use return without expression \n",
    "def no_return_value():\n",
    "    return \n",
    "\n",
    "print(no_return_value())"
   ]
  },
  {
   "cell_type": "markdown",
   "id": "58b85e43",
   "metadata": {},
   "source": [
    "### 9. How do you make a function variable refer to the global variable?"
   ]
  },
  {
   "cell_type": "markdown",
   "id": "f5f41d22",
   "metadata": {},
   "source": [
    "<font color= blue> _Answer_ </font>"
   ]
  },
  {
   "cell_type": "markdown",
   "id": "d2150c16",
   "metadata": {},
   "source": [
    "- Normally, when you create a variable inside a function, that variable is local, and can only be used inside that function.\n"
   ]
  },
  {
   "cell_type": "code",
   "execution_count": 6,
   "id": "5e38e861",
   "metadata": {},
   "outputs": [
    {
     "name": "stdout",
     "output_type": "stream",
     "text": [
      "Inside Function: Hello world\n"
     ]
    },
    {
     "ename": "NameError",
     "evalue": "name 's' is not defined",
     "output_type": "error",
     "traceback": [
      "\u001b[1;31m---------------------------------------------------------------------------\u001b[0m",
      "\u001b[1;31mNameError\u001b[0m                                 Traceback (most recent call last)",
      "\u001b[1;32m~\\AppData\\Local\\Temp\\ipykernel_544\\682944858.py\u001b[0m in \u001b[0;36m<module>\u001b[1;34m\u001b[0m\n\u001b[0;32m      5\u001b[0m \u001b[1;33m\u001b[0m\u001b[0m\n\u001b[0;32m      6\u001b[0m \u001b[0mtest\u001b[0m\u001b[1;33m(\u001b[0m\u001b[1;33m)\u001b[0m\u001b[1;33m\u001b[0m\u001b[1;33m\u001b[0m\u001b[0m\n\u001b[1;32m----> 7\u001b[1;33m \u001b[0mprint\u001b[0m\u001b[1;33m(\u001b[0m\u001b[0ms\u001b[0m\u001b[1;33m)\u001b[0m \u001b[1;31m# trying to call local variable outside the fuction\u001b[0m\u001b[1;33m\u001b[0m\u001b[1;33m\u001b[0m\u001b[0m\n\u001b[0m",
      "\u001b[1;31mNameError\u001b[0m: name 's' is not defined"
     ]
    }
   ],
   "source": [
    "def test():\n",
    "    # local variable\n",
    "    s = \"Hello world\"\n",
    "    print(\"Inside Function:\", s)\n",
    "    \n",
    "test()\n",
    "print(s) # trying to call local variable outside the fuction "
   ]
  },
  {
   "cell_type": "markdown",
   "id": "1eddcad1",
   "metadata": {},
   "source": [
    "- if you want a function variable to refer to a global variable, you can use the __global__ keyword.\n",
    "- By using the <code>global</code> keyword, you can indicate that a variable inside a function should be treated as a reference to the global variable with the same name."
   ]
  },
  {
   "cell_type": "code",
   "execution_count": null,
   "id": "5c269ff0",
   "metadata": {},
   "outputs": [],
   "source": [
    "def test():\n",
    "    \n",
    "    global s \n",
    "    s=\"Hello world\"\n",
    "    print(\"Inside Function:\", s)\n",
    "    \n",
    "test()\n",
    "print(s) # trying to call local variable outside the fuction"
   ]
  },
  {
   "cell_type": "markdown",
   "id": "e4c133f1",
   "metadata": {},
   "source": [
    "### 10. What is the data type of None?"
   ]
  },
  {
   "cell_type": "markdown",
   "id": "63787f94",
   "metadata": {},
   "source": [
    "<font color= blue> _Answer_ </font>"
   ]
  },
  {
   "cell_type": "markdown",
   "id": "16b131ee",
   "metadata": {},
   "source": [
    "Python, the data type of None is NoneType."
   ]
  },
  {
   "cell_type": "code",
   "execution_count": null,
   "id": "d87c2da0",
   "metadata": {},
   "outputs": [],
   "source": [
    "type(None)"
   ]
  },
  {
   "cell_type": "markdown",
   "id": "20a3a51d",
   "metadata": {},
   "source": [
    "### 11. What does the sentence import areallyourpetsnamederic do?"
   ]
  },
  {
   "cell_type": "markdown",
   "id": "20433d57",
   "metadata": {},
   "source": [
    "<font color= blue> _Answer_ </font>"
   ]
  },
  {
   "cell_type": "markdown",
   "id": "72ddeee3",
   "metadata": {},
   "source": [
    "- The sentence \"import areallyourpetsnamederic\" is not a valid import statement in Python.\n",
    "- In Python, the import statement is used to import modules or specific attributes from modules, allowing you to access their functionality in your code.\n"
   ]
  },
  {
   "cell_type": "code",
   "execution_count": null,
   "id": "fed713ad",
   "metadata": {},
   "outputs": [],
   "source": [
    "import areallyourpetsnamederic"
   ]
  },
  {
   "cell_type": "markdown",
   "id": "e37c7818",
   "metadata": {},
   "source": [
    "- The sentence \"import areallyourpetsnamederic\" would result in a <code>ModuleNotFoundError</code>  because it does not correspond to a valid module name in Python."
   ]
  },
  {
   "cell_type": "markdown",
   "id": "664bd7cf",
   "metadata": {},
   "source": [
    "### 12. If you had a bacon() feature in a spam module, what would you call it after importing spam?"
   ]
  },
  {
   "cell_type": "markdown",
   "id": "38136288",
   "metadata": {},
   "source": [
    "<font color= blue> _Answer_ </font>"
   ]
  },
  {
   "cell_type": "markdown",
   "id": "e978ad92",
   "metadata": {},
   "source": [
    "- If you have a bacon() feature in a module named spam, after importing the spam module, you can call the bacon() function using the module name as a prefix."
   ]
  },
  {
   "cell_type": "markdown",
   "id": "c6a1cc5e",
   "metadata": {},
   "source": [
    "> import spam <br>spam.bacon()"
   ]
  },
  {
   "cell_type": "markdown",
   "id": "bdc3ca14",
   "metadata": {},
   "source": [
    "### 13. What can you do to save a programme from crashing if it encounters an error?"
   ]
  },
  {
   "cell_type": "markdown",
   "id": "fce1b517",
   "metadata": {},
   "source": [
    "<font color= blue> _Answer_ </font>"
   ]
  },
  {
   "cell_type": "markdown",
   "id": "bdd49206",
   "metadata": {},
   "source": [
    "- To prevent a program from crashing when it encounters an error, you can implement error handling mechanisms such as __exception handling__. \n",
    "- Exception handling allows you to catch and handle errors or exceptional situations gracefully, providing an opportunity to handle the error, log it, display a meaningful message to the user, or take alternative actions instead of abruptly terminating the program.\n",
    "- we use the <code>try</code> and <code>except</code> statements to handle exceptions. Whenever the code breaks down, an exception is thrown without crashing the program.\n",
    "- Python would process all code inside the try and except statement. When it encounters an error, the control is passed to the except block, skipping the code in between."
   ]
  },
  {
   "cell_type": "markdown",
   "id": "8ef5e8ad",
   "metadata": {},
   "source": [
    "### 14. What is the purpose of the try clause? What is the purpose of the except clause?\n"
   ]
  },
  {
   "cell_type": "markdown",
   "id": "4e9b5f08",
   "metadata": {},
   "source": [
    "<font color= blue> _Answer_ </font>"
   ]
  },
  {
   "cell_type": "markdown",
   "id": "d956af84",
   "metadata": {},
   "source": [
    "__try__\n",
    "- The purpose of the try clause is to enclose a block of code that might raise an exception. By placing code within the try block, you indicate that you want to monitor and handle any exceptions that may occur during the execution of that code. \n",
    "- syntax for __try__ clause:\n",
    "> <code >__try__: <br>    #code that may raise an exception <br>    # ... </code>"
   ]
  },
  {
   "cell_type": "markdown",
   "id": "5f9b6ada",
   "metadata": {},
   "source": [
    "- Within the try block, you typically place code that may potentially encounter exceptions, such as accessing external resources, performing I/O operations, or executing complex computations. \n",
    "- If an exception is raised within the <code>try</code> block, the program's normal execution flow is interrupted, and the corresponding <code>except</code> block is sought to handle the exception.\n"
   ]
  },
  {
   "cell_type": "markdown",
   "id": "82348bde",
   "metadata": {},
   "source": [
    "__except__\n",
    "- The purpose of the except clause is to specify the code that should be executed if a specific exception occurs within the corresponding try block. \n",
    "- The except block catches the raised exception and provides an opportunity to handle it gracefully, perform error recovery, or take alternative actions.\n",
    "- The syntax of the except clause :\n",
    "> <code>__except__ ExceptionType:<br>    # Code to handle the exception<br>    # ... </code>"
   ]
  },
  {
   "cell_type": "markdown",
   "id": "5ff4bad6",
   "metadata": {},
   "source": [
    "- By combining the try and except clauses, you establish a structured approach to handle exceptions,"
   ]
  },
  {
   "cell_type": "markdown",
   "id": "003bb88b",
   "metadata": {},
   "source": [
    "> <code >__try__: <br>    #code that may raise an exception <br>    # ... </code>\n",
    "\n",
    "> <code>__except__ ExceptionType:<br>    # Code to handle the exception<br>    # ... </code>\n"
   ]
  },
  {
   "cell_type": "code",
   "execution_count": null,
   "id": "4f987235",
   "metadata": {},
   "outputs": [],
   "source": [
    "#Example\n",
    "\n",
    "def addNumbers(a, b):\n",
    "    #Exception handling\n",
    "    try:\n",
    "        return a + b # Try this statemnt and if error occure execute except\n",
    "    except Exception as e: \n",
    "        return 'Error occurred : ' + str(e) \n",
    "\n",
    "print(addNumbers('Hi', 10))"
   ]
  },
  {
   "cell_type": "markdown",
   "id": "2b13069f",
   "metadata": {},
   "source": [
    "- Here  we try to add string value with integer value which is invalid, so it cause error. to handle it we use try and except"
   ]
  },
  {
   "cell_type": "code",
   "execution_count": null,
   "id": "8eff88cb",
   "metadata": {},
   "outputs": [],
   "source": []
  }
 ],
 "metadata": {
  "kernelspec": {
   "display_name": "Python 3 (ipykernel)",
   "language": "python",
   "name": "python3"
  },
  "language_info": {
   "codemirror_mode": {
    "name": "ipython",
    "version": 3
   },
   "file_extension": ".py",
   "mimetype": "text/x-python",
   "name": "python",
   "nbconvert_exporter": "python",
   "pygments_lexer": "ipython3",
   "version": "3.9.13"
  }
 },
 "nbformat": 4,
 "nbformat_minor": 5
}
