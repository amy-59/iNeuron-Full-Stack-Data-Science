{
 "cells": [
  {
   "cell_type": "markdown",
   "id": "dd566080",
   "metadata": {},
   "source": [
    "<h3 align=\"center\">Assignment 2</h3>"
   ]
  },
  {
   "cell_type": "markdown",
   "id": "a020458d",
   "metadata": {},
   "source": [
    "### 1.What are the two values of the Boolean data type? How do you write them?"
   ]
  },
  {
   "cell_type": "markdown",
   "id": "d2136724",
   "metadata": {},
   "source": [
    "####  <font color=blue> _Answer_ </font>"
   ]
  },
  {
   "cell_type": "markdown",
   "id": "8e4ba812",
   "metadata": {},
   "source": [
    "- A variable of the primitive data type boolean can have two values: true and false\n",
    "- Boolean variables are used to indicate whether a condition is true or not, or to represent two states, such as a light being on or off"
   ]
  },
  {
   "cell_type": "code",
   "execution_count": 2,
   "id": "57a7c6f7",
   "metadata": {},
   "outputs": [
    {
     "data": {
      "text/plain": [
       "True"
      ]
     },
     "execution_count": 2,
     "metadata": {},
     "output_type": "execute_result"
    }
   ],
   "source": [
    "# Example_1\n",
    "'h' in \"hello\" "
   ]
  },
  {
   "cell_type": "code",
   "execution_count": 3,
   "id": "411aa69f",
   "metadata": {},
   "outputs": [
    {
     "data": {
      "text/plain": [
       "False"
      ]
     },
     "execution_count": 3,
     "metadata": {},
     "output_type": "execute_result"
    }
   ],
   "source": [
    "#Example_2\n",
    "'H' in 'hello'"
   ]
  },
  {
   "cell_type": "code",
   "execution_count": 5,
   "id": "b7964035",
   "metadata": {},
   "outputs": [
    {
     "data": {
      "text/plain": [
       "bool"
      ]
     },
     "execution_count": 5,
     "metadata": {},
     "output_type": "execute_result"
    }
   ],
   "source": [
    "#Example_3\n",
    "a = True\n",
    "type(a)\n",
    " \n",
    "b = False\n",
    "type(b)"
   ]
  },
  {
   "cell_type": "markdown",
   "id": "bdac3ba1",
   "metadata": {},
   "source": [
    "### 2. What are the three different types of Boolean operators?"
   ]
  },
  {
   "cell_type": "markdown",
   "id": "7722b523",
   "metadata": {},
   "source": [
    "####  <font color=blue> _Answer_ </font>"
   ]
  },
  {
   "cell_type": "markdown",
   "id": "c38fca1c",
   "metadata": {},
   "source": [
    "There are three basic boolean operators\n",
    "\n",
    "1. __OR__\n",
    "    - It returns True, when either the first operand or second operand is True, otherwise it returns False.\n",
    "    - Ex.this is a Condition if a>b OR c>b\n",
    "    - If a>b is True  and c>b also true then the Answer is True.\n",
    "    - If a>b is False then it check c>b is True in that case it also retrun True\n",
    "    - If both condition get false then it will return False\n",
    "    \n",
    "    \n",
    "\n",
    "2. __AND__ \n",
    "    - It returns True, when both the 1st operand and 2nd operand is True, otherwise it returns False.\n",
    "    - Ex.this is a Condition if a>b AND c>b\n",
    "    - If a>b is True then it check c>b also true then the Answer is True.\n",
    "    - if either a>b and c>b is False then it retrun False\n",
    "    - both condition get false then it will return False\n",
    "\n",
    "\n",
    "\n",
    "3. __NOT__ \n",
    "    - It is boolean operator that define it is mainly used to control the flow of the program. It is used in construction of logical statements and in supporting bitwise negation."
   ]
  },
  {
   "cell_type": "markdown",
   "id": "e6c3b595",
   "metadata": {},
   "source": [
    "### 3. Make a list of each Boolean operator's truth tables (i.e. every possible combination of Boolean values for the operator and what it evaluate )."
   ]
  },
  {
   "cell_type": "markdown",
   "id": "c0f18296",
   "metadata": {},
   "source": [
    "####  <font color=blue> _Answer_ </font>"
   ]
  },
  {
   "cell_type": "markdown",
   "id": "9e9f1826",
   "metadata": {},
   "source": [
    "__AND Operator Truth Table__\n",
    "<table width=\"60%\">\n",
    "<tr><th> A</th> <th>B</th> <th> Output  y = A . B </th></tr>\n",
    "<tr><td>False</td> <td>   False </td> <td> False <td></tr><br>\n",
    "<tr><td>False</td> <td>   True  </td><td>  False </td> </tr><br>\n",
    "<tr><td>True </td> <td>False</td><td>    False</td> <br></tr>\n",
    "<tr><td>True </td> <td>True</td><td>    True</td> <br></tr>\n",
    "</table>\n",
    "\n"
   ]
  },
  {
   "cell_type": "markdown",
   "id": "d0b5d5e9",
   "metadata": {},
   "source": [
    "__OR Operator Truth Table__\n",
    "<table width=\"60%\">\n",
    "<tr>\n",
    "<th> A</th> <th>B</th> <th>Output  y = A + B </th></tr>\n",
    "<tr><td>False</td><td>   False  </td> <td> False <td></tr><br>\n",
    "<tr><td>False</td><td>   True</td><td>     True</td> </tr><br>\n",
    "<tr><td>True </td>   <td>False</td><td>    True</td> <br></tr>\n",
    "<tr><td>True </td>   <td>True</td><td>    True</td> <br></tr>\n",
    "</table>"
   ]
  },
  {
   "cell_type": "markdown",
   "id": "db9c2c55",
   "metadata": {},
   "source": [
    "__NOT Operator Truth Table__\n",
    "<table width=\"40%\">\n",
    "<tr>\n",
    "<th> A</th> <th>Output  y = A ! B </th></tr>\n",
    "<tr><td>False</td><td>   True</td> </tr><br>\n",
    "<tr><td>True </td>   <td>False</td> <br></tr>\n",
    "</table>"
   ]
  },
  {
   "cell_type": "markdown",
   "id": "596c9608",
   "metadata": {},
   "source": [
    "### 4. What are the values of the following expressions?"
   ]
  },
  {
   "cell_type": "markdown",
   "id": "b9c3554b",
   "metadata": {},
   "source": [
    "####  <font color=blue> _Answer_ </font>"
   ]
  },
  {
   "cell_type": "code",
   "execution_count": 7,
   "id": "ec0712e0",
   "metadata": {},
   "outputs": [
    {
     "data": {
      "text/plain": [
       "False"
      ]
     },
     "execution_count": 7,
     "metadata": {},
     "output_type": "execute_result"
    }
   ],
   "source": [
    "(5 > 4) and (3 == 5)"
   ]
  },
  {
   "cell_type": "code",
   "execution_count": 8,
   "id": "57f465e3",
   "metadata": {},
   "outputs": [
    {
     "data": {
      "text/plain": [
       "False"
      ]
     },
     "execution_count": 8,
     "metadata": {},
     "output_type": "execute_result"
    }
   ],
   "source": [
    "not (5 > 4)"
   ]
  },
  {
   "cell_type": "code",
   "execution_count": 9,
   "id": "d42876c5",
   "metadata": {},
   "outputs": [
    {
     "data": {
      "text/plain": [
       "True"
      ]
     },
     "execution_count": 9,
     "metadata": {},
     "output_type": "execute_result"
    }
   ],
   "source": [
    "(5 > 4) or (3 == 5)"
   ]
  },
  {
   "cell_type": "code",
   "execution_count": 10,
   "id": "8cce3126",
   "metadata": {},
   "outputs": [
    {
     "data": {
      "text/plain": [
       "False"
      ]
     },
     "execution_count": 10,
     "metadata": {},
     "output_type": "execute_result"
    }
   ],
   "source": [
    "not ((5 > 4) or (3 == 5))"
   ]
  },
  {
   "cell_type": "code",
   "execution_count": 11,
   "id": "6861ae50",
   "metadata": {},
   "outputs": [
    {
     "data": {
      "text/plain": [
       "False"
      ]
     },
     "execution_count": 11,
     "metadata": {},
     "output_type": "execute_result"
    }
   ],
   "source": [
    "(True and True) and (True == False)"
   ]
  },
  {
   "cell_type": "code",
   "execution_count": 12,
   "id": "1856fb57",
   "metadata": {},
   "outputs": [
    {
     "data": {
      "text/plain": [
       "True"
      ]
     },
     "execution_count": 12,
     "metadata": {},
     "output_type": "execute_result"
    }
   ],
   "source": [
    "(not False) or (not True)"
   ]
  },
  {
   "cell_type": "markdown",
   "id": "a6dcc964",
   "metadata": {},
   "source": [
    "### 5. What are the six comparison operators?"
   ]
  },
  {
   "cell_type": "markdown",
   "id": "56e17573",
   "metadata": {},
   "source": [
    "####  <font color=blue> _Answer_ </font>"
   ]
  },
  {
   "cell_type": "markdown",
   "id": "925480bd",
   "metadata": {},
   "source": [
    "\n",
    "There are Six Compaison Operators\n",
    "\n",
    "    1. Less Than (<)\n",
    "    2. Greater Than (>)\n",
    "    3. Less Than OR Equal To (<=)\n",
    "    4. Greater Than OR Equal To (>=)\n",
    "    5. Equal To (==)\n",
    "    6. Not Equal To (!=)"
   ]
  },
  {
   "cell_type": "markdown",
   "id": "3b446889",
   "metadata": {},
   "source": [
    "### 6. How do you tell the difference between the equal to and assignment operators?Describe a condition and when you would use one."
   ]
  },
  {
   "cell_type": "markdown",
   "id": "8fac3f37",
   "metadata": {},
   "source": [
    "####  <font color=blue> _Answer_ </font>"
   ]
  },
  {
   "cell_type": "markdown",
   "id": "bf3e901f",
   "metadata": {},
   "source": [
    "- The ' = ' is an __assignment operator__ \n",
    "- It is used to assign the value on the right, to the variable on the left. \n",
    "- Constant term cannot be placed on left hand side. Example: 1=x; is invalid."
   ]
  },
  {
   "cell_type": "code",
   "execution_count": 13,
   "id": "bf608352",
   "metadata": {},
   "outputs": [
    {
     "name": "stdout",
     "output_type": "stream",
     "text": [
      "a =  100\n",
      "b =  400\n"
     ]
    }
   ],
   "source": [
    "#Example of assignment operator\n",
    "a = 100\n",
    "b = 400\n",
    "print(\"a = \",a)\n",
    "print(\"b = \",b)"
   ]
  },
  {
   "cell_type": "markdown",
   "id": "24e46a30",
   "metadata": {},
   "source": [
    "- The ' == ' is __equal to operator__ \n",
    "- It is a relational or comparison operator.\n",
    "- It is used for comparing two values. It returns 1 if both the values are equal otherwise returns 0.\n",
    "- Constant term can be placed in the left hand side. Example: 1==1 is valid and returns 1\n"
   ]
  },
  {
   "cell_type": "code",
   "execution_count": 1,
   "id": "8bce936e",
   "metadata": {},
   "outputs": [
    {
     "name": "stdout",
     "output_type": "stream",
     "text": [
      "a is Equal to b    False\n",
      "a is Equal to 100  True\n"
     ]
    }
   ],
   "source": [
    "#Example of equal to oprator\n",
    "a = 100\n",
    "b = 200\n",
    "\n",
    "# checking whether both varialble have same value\n",
    "print(\"a is Equal to b   \",(a==b))\n",
    "print(\"a is Equal to 100 \",(a==100))"
   ]
  },
  {
   "cell_type": "markdown",
   "id": "fb4df6ac",
   "metadata": {},
   "source": [
    "### 7. Identify the three blocks in this code:"
   ]
  },
  {
   "cell_type": "markdown",
   "id": "fb5d2ab2",
   "metadata": {},
   "source": [
    "####  <font color=blue> _Answer_ </font>"
   ]
  },
  {
   "cell_type": "code",
   "execution_count": 19,
   "id": "6ef0e47b",
   "metadata": {},
   "outputs": [
    {
     "name": "stdout",
     "output_type": "stream",
     "text": [
      "ham\n",
      "spam\n",
      "spam\n"
     ]
    }
   ],
   "source": [
    "# This is a First Block\n",
    "spam =0\n",
    "if spam ==10:\n",
    "    print('eggs')\n",
    "\n",
    "\n",
    "# This is a Second Block\n",
    "if spam>5:\n",
    "    print('bacon')\n",
    "\n",
    "\n",
    "# This is a Third Block\n",
    "else:\n",
    "    print('ham')\n",
    "    print('spam')\n",
    "    print('spam')"
   ]
  },
  {
   "cell_type": "markdown",
   "id": "bcdc16a2",
   "metadata": {},
   "source": [
    "### 8. Write code that prints Hello if 1 is stored in spam, prints Howdy if 2 is stored in spam, and prints Greetings! if anything else is stored in spam."
   ]
  },
  {
   "cell_type": "markdown",
   "id": "58889b93",
   "metadata": {},
   "source": [
    "####  <font color=blue> _Answer_ </font>"
   ]
  },
  {
   "cell_type": "code",
   "execution_count": 21,
   "id": "e900f7d4",
   "metadata": {},
   "outputs": [
    {
     "name": "stdout",
     "output_type": "stream",
     "text": [
      "Press 1 for Hello\n",
      "Press 2 for Howdy\n",
      "Press any key for Greetings\n",
      "enter spam value : 4\n",
      "Greetings\n"
     ]
    }
   ],
   "source": [
    "print(\"Press 1 for Hello\")\n",
    "print(\"Press 2 for Howdy\")\n",
    "print(\"Press any key for Greetings\")\n",
    "\n",
    "spam = int(input(\"enter spam value : \"))\n",
    "\n",
    "if spam==1:\n",
    "  print(\"Hello\")\n",
    "elif spam==2:\n",
    "  print(\"Howdy\")\n",
    "else:\n",
    "  print(\"Greetings\")"
   ]
  },
  {
   "cell_type": "markdown",
   "id": "1f7b1797",
   "metadata": {},
   "source": [
    "### 9. If your programme is stuck in an endless loop, what keys you’ll press?"
   ]
  },
  {
   "cell_type": "markdown",
   "id": "385da24a",
   "metadata": {},
   "source": [
    "####  <font color=blue> _Answer_ </font>"
   ]
  },
  {
   "cell_type": "markdown",
   "id": "e0d1e38c",
   "metadata": {},
   "source": [
    "An infinite loop is a loop that runs indefinitely and it only stops with external intervention or when a break statement is found. You can stop an infinite loop with __CTRL + C__"
   ]
  },
  {
   "cell_type": "markdown",
   "id": "db23b093",
   "metadata": {},
   "source": [
    "### 10. How can you tell the difference between break and continue?"
   ]
  },
  {
   "cell_type": "markdown",
   "id": "4153a4fa",
   "metadata": {},
   "source": [
    "####  <font color=blue> _Answer_ </font>"
   ]
  },
  {
   "cell_type": "markdown",
   "id": "79ad2eff",
   "metadata": {},
   "source": [
    "<table width=\"80%\">\n",
    "<tr><th>Break</th><th>Continue</th></tr>\n",
    "<tr><td>Break Statement is used to terminate the loop</td><td>Continue Statement is used to continue the next iterations in the loop</td></tr>\n",
    "<tr><td>Break Statement is used in loop and switch case</td><td>Continue Statement is used in loop only</td></tr>\n",
    "<tr><td>The Break stop the continuation of the loop.</td><td>The Continue does not stop the continuation of loop and it stops the current.</td></tr>\n"
   ]
  },
  {
   "cell_type": "code",
   "execution_count": 12,
   "id": "d5378e7f",
   "metadata": {},
   "outputs": [
    {
     "name": "stdout",
     "output_type": "stream",
     "text": [
      "1\n",
      "2\n"
     ]
    }
   ],
   "source": [
    "# Example of break\n",
    "i = 0\n",
    "while i<=5:\n",
    "    i+=1\n",
    "    if i==3:\n",
    "        break #it come out of loop as soon as condition become true\n",
    " \n",
    "    print(i)"
   ]
  },
  {
   "cell_type": "code",
   "execution_count": 13,
   "id": "46013205",
   "metadata": {},
   "outputs": [
    {
     "name": "stdout",
     "output_type": "stream",
     "text": [
      "1\n",
      "2\n",
      "4\n",
      "5\n",
      "6\n"
     ]
    }
   ],
   "source": [
    "#Eample of continue\n",
    "i = 0\n",
    "while i<=5:\n",
    "    i+=1\n",
    "    if i==3:\n",
    "        continue # it continue after condition i==3 skiping it\n",
    "    \n",
    "    print(i)"
   ]
  },
  {
   "cell_type": "markdown",
   "id": "80998763",
   "metadata": {},
   "source": [
    "### 11. In a for loop, what is the difference between range(10), range(0, 10), and range(0, 10, 1)?"
   ]
  },
  {
   "cell_type": "markdown",
   "id": "1c74898e",
   "metadata": {},
   "source": [
    "####  <font color=blue> _Answer_ </font>"
   ]
  },
  {
   "cell_type": "markdown",
   "id": "1718a05f",
   "metadata": {},
   "source": [
    "<table width=90%>\n",
    "<tr><th>range(10)</th><th>range(0,10)</th><th>range(0,10,1)</th></tr>\n",
    "<tr ><td style=\"text-align: center\" >In this range function 10 is parameter that define<br> the end number of range.  </td><td style=\"text-align: center\">In this range function 0 is a starting paramenter <br>and 10 is ending parameter in the given function </td><td style=\"text-align: center\">In this range function that define the starting number from 0 to 10.\n",
    "    one more parameter we can call it as step that means how range skip values we can call it as jump</td></tr>\n",
    "</table>"
   ]
  },
  {
   "cell_type": "markdown",
   "id": "6d80e994",
   "metadata": {},
   "source": [
    "The Three range function giving Same output let's See"
   ]
  },
  {
   "cell_type": "code",
   "execution_count": 26,
   "id": "297aaefe",
   "metadata": {},
   "outputs": [
    {
     "name": "stdout",
     "output_type": "stream",
     "text": [
      "0 1 2 3 4 5 6 7 8 9 "
     ]
    }
   ],
   "source": [
    "# First Range Function\n",
    "\n",
    "for i in range(10):\n",
    "  print(i ,end=\" \")"
   ]
  },
  {
   "cell_type": "code",
   "execution_count": 29,
   "id": "40a37af8",
   "metadata": {},
   "outputs": [
    {
     "name": "stdout",
     "output_type": "stream",
     "text": [
      "0 1 2 3 4 5 6 7 8 9 "
     ]
    }
   ],
   "source": [
    "# Second Range Function\n",
    "\n",
    "for i in range(0,10):\n",
    "  print(i,end=\" \")"
   ]
  },
  {
   "cell_type": "code",
   "execution_count": 28,
   "id": "a59b45ad",
   "metadata": {},
   "outputs": [
    {
     "name": "stdout",
     "output_type": "stream",
     "text": [
      "0 1 2 3 4 5 6 7 8 9 "
     ]
    }
   ],
   "source": [
    "# Third Range Function\n",
    "\n",
    "for i in range(0,10,1):\n",
    "  print(i,end=\" \")"
   ]
  },
  {
   "cell_type": "markdown",
   "id": "d175b5c7",
   "metadata": {},
   "source": [
    "### 12. Write a short program that prints the numbers 1 to 10 using a for loop. Then write an equivalent program that prints the numbers 1 to 10 using a while loop"
   ]
  },
  {
   "cell_type": "markdown",
   "id": "8334fffd",
   "metadata": {},
   "source": [
    "####  <font color=blue> _Answer_ </font>"
   ]
  },
  {
   "cell_type": "code",
   "execution_count": 34,
   "id": "5e5dab89",
   "metadata": {},
   "outputs": [
    {
     "name": "stdout",
     "output_type": "stream",
     "text": [
      "1\n",
      "2\n",
      "3\n",
      "4\n",
      "5\n",
      "6\n",
      "7\n",
      "8\n",
      "9\n",
      "10\n"
     ]
    }
   ],
   "source": [
    "# Print 1 to 10 using For Loop\n",
    "for i in range(1,11):\n",
    "    print(i)"
   ]
  },
  {
   "cell_type": "code",
   "execution_count": 35,
   "id": "8b345c37",
   "metadata": {},
   "outputs": [
    {
     "name": "stdout",
     "output_type": "stream",
     "text": [
      "1\n",
      "2\n",
      "3\n",
      "4\n",
      "5\n",
      "6\n",
      "7\n",
      "8\n",
      "9\n",
      "10\n"
     ]
    }
   ],
   "source": [
    "# Print 1 to 10 using While Loop\n",
    "i=1\n",
    "while i<11:\n",
    "    print(i)\n",
    "    i+=1"
   ]
  },
  {
   "cell_type": "markdown",
   "id": "49ad8a4b",
   "metadata": {},
   "source": [
    "### 13. If you had a function named bacon() inside a module named spam, how would you call it after importing spam?"
   ]
  },
  {
   "cell_type": "markdown",
   "id": "a5d94bc6",
   "metadata": {},
   "source": [
    "####  <font color=blue> _Answer_ </font>"
   ]
  },
  {
   "cell_type": "markdown",
   "id": "b0b8c69b",
   "metadata": {},
   "source": [
    " This function can be called with spam.bacon()"
   ]
  },
  {
   "cell_type": "code",
   "execution_count": null,
   "id": "24846aa1",
   "metadata": {},
   "outputs": [],
   "source": []
  }
 ],
 "metadata": {
  "kernelspec": {
   "display_name": "Python 3 (ipykernel)",
   "language": "python",
   "name": "python3"
  },
  "language_info": {
   "codemirror_mode": {
    "name": "ipython",
    "version": 3
   },
   "file_extension": ".py",
   "mimetype": "text/x-python",
   "name": "python",
   "nbconvert_exporter": "python",
   "pygments_lexer": "ipython3",
   "version": "3.9.13"
  }
 },
 "nbformat": 4,
 "nbformat_minor": 5
}
